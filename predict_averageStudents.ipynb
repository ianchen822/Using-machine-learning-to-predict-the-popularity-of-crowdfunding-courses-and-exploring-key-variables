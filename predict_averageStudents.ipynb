{
 "cells": [
  {
   "cell_type": "code",
   "execution_count": 2,
   "id": "8f566bb5",
   "metadata": {},
   "outputs": [],
   "source": [
    "import pandas as pd\n",
    "import numpy as np"
   ]
  },
  {
   "cell_type": "code",
   "execution_count": 167,
   "id": "e5fae04d",
   "metadata": {},
   "outputs": [],
   "source": [
    "train = pd.read_csv(\"train_all_data_averageStudents_new.csv\")"
   ]
  },
  {
   "cell_type": "code",
   "execution_count": 168,
   "id": "c295ccc8",
   "metadata": {},
   "outputs": [],
   "source": [
    "y_train = train.iloc[:, -1]"
   ]
  },
  {
   "cell_type": "markdown",
   "id": "621bc125",
   "metadata": {},
   "source": [
    "# 第一種挑法"
   ]
  },
  {
   "cell_type": "code",
   "execution_count": 42,
   "id": "8cbbed16",
   "metadata": {},
   "outputs": [],
   "source": [
    "columns = ['preOrderedPrice', 'price', 'courseCP']"
   ]
  },
  {
   "cell_type": "code",
   "execution_count": 43,
   "id": "ba0f3fbe",
   "metadata": {},
   "outputs": [],
   "source": [
    "train_method1 = train[columns]"
   ]
  },
  {
   "cell_type": "code",
   "execution_count": 44,
   "id": "00aaba95",
   "metadata": {},
   "outputs": [
    {
     "data": {
      "text/plain": [
       "array([[0.43546016, 0.41176471, 0.15084936],\n",
       "       [0.67068509, 0.58823529, 0.15000265],\n",
       "       [0.43546016, 0.54751131, 0.0605144 ],\n",
       "       ...,\n",
       "       [0.4707439 , 0.47963801, 0.12914266],\n",
       "       [0.23257865, 0.32126697, 0.33758745],\n",
       "       [0.41193767, 0.41176471, 0.07424865]])"
      ]
     },
     "execution_count": 44,
     "metadata": {},
     "output_type": "execute_result"
    }
   ],
   "source": [
    "# minmax、dummy\n",
    "\n",
    "from sklearn.preprocessing import MinMaxScaler\n",
    "\n",
    "scaler = MinMaxScaler()\n",
    "scaler = scaler.fit(train_method1)\n",
    "train_method1 = scaler.transform(train_method1)\n",
    "train_method1"
   ]
  },
  {
   "cell_type": "code",
   "execution_count": 45,
   "id": "22c6c2a9",
   "metadata": {},
   "outputs": [],
   "source": [
    "# pip install xgboost"
   ]
  },
  {
   "cell_type": "code",
   "execution_count": 46,
   "id": "3fba2d9b",
   "metadata": {},
   "outputs": [
    {
     "name": "stdout",
     "output_type": "stream",
     "text": [
      "RMSE :  3990.983343\n"
     ]
    }
   ],
   "source": [
    "# XGBoost\n",
    "from sklearn.metrics import mean_squared_error as MSE\n",
    "from xgboost import XGBRegressor\n",
    "from sklearn.model_selection import KFold\n",
    "from sklearn.model_selection import cross_val_score\n",
    "\n",
    "model = XGBRegressor()\n",
    "\n",
    "cv = KFold(n_splits = 10, random_state = 5, shuffle = True)\n",
    "scores = cross_val_score(model, train_method1, y_train, scoring = 'neg_mean_squared_error',\n",
    "                         cv = cv, n_jobs = -1)\n",
    "\n",
    "print(\"RMSE : % f\" %(np.mean(np.sqrt(np.abs(scores)))))"
   ]
  },
  {
   "cell_type": "code",
   "execution_count": 47,
   "id": "46437ad0",
   "metadata": {},
   "outputs": [
    {
     "name": "stdout",
     "output_type": "stream",
     "text": [
      "RMSE :  2871.267629\n"
     ]
    }
   ],
   "source": [
    "# RandomForrest\n",
    "from sklearn.metrics import mean_squared_error as MSE\n",
    "from sklearn.ensemble import RandomForestRegressor\n",
    "\n",
    "model = RandomForestRegressor()\n",
    "\n",
    "cv = KFold(n_splits = 10, random_state = 5, shuffle = True)\n",
    "scores = cross_val_score(model, train_method1, y_train, scoring = 'neg_mean_squared_error',\n",
    "                         cv = cv, n_jobs = -1)\n",
    "\n",
    "print(\"RMSE : % f\" %(np.mean(np.sqrt(np.abs(scores)))))"
   ]
  },
  {
   "cell_type": "code",
   "execution_count": 48,
   "id": "d82f221a",
   "metadata": {},
   "outputs": [
    {
     "name": "stdout",
     "output_type": "stream",
     "text": [
      "RMSE :  2538.120174\n"
     ]
    }
   ],
   "source": [
    "# SVM\n",
    "from sklearn.metrics import mean_squared_error as MSE\n",
    "from sklearn.svm import SVR\n",
    "\n",
    "model = SVR()\n",
    "\n",
    "cv = KFold(n_splits = 10, random_state = 5, shuffle = True)\n",
    "scores = cross_val_score(model, train_method1, y_train, scoring = 'neg_mean_squared_error',\n",
    "                         cv = cv, n_jobs = -1)\n",
    "\n",
    "print(\"RMSE : % f\" %(np.mean(np.sqrt(np.abs(scores)))))"
   ]
  },
  {
   "cell_type": "markdown",
   "id": "0e74c98c",
   "metadata": {},
   "source": [
    "# 第二種挑法"
   ]
  },
  {
   "cell_type": "code",
   "execution_count": 49,
   "id": "45c5b251",
   "metadata": {},
   "outputs": [],
   "source": [
    "columns = ['group__title','group__subGroup__title','subtitleCourseNum','pictureNum', 'lengthOfDescription', 'totalVideoLengthInSeconds']"
   ]
  },
  {
   "cell_type": "code",
   "execution_count": 50,
   "id": "e7847b49",
   "metadata": {},
   "outputs": [],
   "source": [
    "train_method2 = train[columns]"
   ]
  },
  {
   "cell_type": "code",
   "execution_count": 51,
   "id": "31b719aa",
   "metadata": {},
   "outputs": [
    {
     "name": "stderr",
     "output_type": "stream",
     "text": [
      "C:\\Users\\ChenPoYen\\anaconda3\\lib\\site-packages\\pandas\\core\\frame.py:3678: SettingWithCopyWarning: \n",
      "A value is trying to be set on a copy of a slice from a DataFrame.\n",
      "Try using .loc[row_indexer,col_indexer] = value instead\n",
      "\n",
      "See the caveats in the documentation: https://pandas.pydata.org/pandas-docs/stable/user_guide/indexing.html#returning-a-view-versus-a-copy\n",
      "  self[col] = igetitem(value, i)\n"
     ]
    },
    {
     "data": {
      "text/html": [
       "<div>\n",
       "<style scoped>\n",
       "    .dataframe tbody tr th:only-of-type {\n",
       "        vertical-align: middle;\n",
       "    }\n",
       "\n",
       "    .dataframe tbody tr th {\n",
       "        vertical-align: top;\n",
       "    }\n",
       "\n",
       "    .dataframe thead th {\n",
       "        text-align: right;\n",
       "    }\n",
       "</style>\n",
       "<table border=\"1\" class=\"dataframe\">\n",
       "  <thead>\n",
       "    <tr style=\"text-align: right;\">\n",
       "      <th></th>\n",
       "      <th>subtitleCourseNum</th>\n",
       "      <th>pictureNum</th>\n",
       "      <th>lengthOfDescription</th>\n",
       "      <th>totalVideoLengthInSeconds</th>\n",
       "      <th>group__title_人文</th>\n",
       "      <th>group__title_手作</th>\n",
       "      <th>group__title_投資理財</th>\n",
       "      <th>group__title_攝影</th>\n",
       "      <th>group__title_生活品味</th>\n",
       "      <th>group__title_程式</th>\n",
       "      <th>...</th>\n",
       "      <th>group__subGroup__title_遊戲開發</th>\n",
       "      <th>group__subGroup__title_運動</th>\n",
       "      <th>group__subGroup__title_量化交易</th>\n",
       "      <th>group__subGroup__title_量化分析</th>\n",
       "      <th>group__subGroup__title_金融商品</th>\n",
       "      <th>group__subGroup__title_電腦繪圖</th>\n",
       "      <th>group__subGroup__title_靈性發展</th>\n",
       "      <th>group__subGroup__title_韓文</th>\n",
       "      <th>group__subGroup__title_音樂創作</th>\n",
       "      <th>group__subGroup__title_體程式開發與維護</th>\n",
       "    </tr>\n",
       "  </thead>\n",
       "  <tbody>\n",
       "    <tr>\n",
       "      <th>0</th>\n",
       "      <td>0.111111</td>\n",
       "      <td>0.137931</td>\n",
       "      <td>0.175227</td>\n",
       "      <td>0.102523</td>\n",
       "      <td>0</td>\n",
       "      <td>0</td>\n",
       "      <td>0</td>\n",
       "      <td>0</td>\n",
       "      <td>1</td>\n",
       "      <td>0</td>\n",
       "      <td>...</td>\n",
       "      <td>0</td>\n",
       "      <td>1</td>\n",
       "      <td>0</td>\n",
       "      <td>0</td>\n",
       "      <td>0</td>\n",
       "      <td>0</td>\n",
       "      <td>0</td>\n",
       "      <td>0</td>\n",
       "      <td>0</td>\n",
       "      <td>0</td>\n",
       "    </tr>\n",
       "    <tr>\n",
       "      <th>1</th>\n",
       "      <td>0.222222</td>\n",
       "      <td>0.327586</td>\n",
       "      <td>0.537932</td>\n",
       "      <td>0.139920</td>\n",
       "      <td>0</td>\n",
       "      <td>0</td>\n",
       "      <td>0</td>\n",
       "      <td>0</td>\n",
       "      <td>1</td>\n",
       "      <td>0</td>\n",
       "      <td>...</td>\n",
       "      <td>0</td>\n",
       "      <td>1</td>\n",
       "      <td>0</td>\n",
       "      <td>0</td>\n",
       "      <td>0</td>\n",
       "      <td>0</td>\n",
       "      <td>0</td>\n",
       "      <td>0</td>\n",
       "      <td>0</td>\n",
       "      <td>0</td>\n",
       "    </tr>\n",
       "    <tr>\n",
       "      <th>2</th>\n",
       "      <td>0.148148</td>\n",
       "      <td>0.155172</td>\n",
       "      <td>0.215509</td>\n",
       "      <td>0.052911</td>\n",
       "      <td>0</td>\n",
       "      <td>0</td>\n",
       "      <td>0</td>\n",
       "      <td>0</td>\n",
       "      <td>0</td>\n",
       "      <td>0</td>\n",
       "      <td>...</td>\n",
       "      <td>0</td>\n",
       "      <td>0</td>\n",
       "      <td>0</td>\n",
       "      <td>0</td>\n",
       "      <td>0</td>\n",
       "      <td>0</td>\n",
       "      <td>0</td>\n",
       "      <td>0</td>\n",
       "      <td>0</td>\n",
       "      <td>0</td>\n",
       "    </tr>\n",
       "    <tr>\n",
       "      <th>3</th>\n",
       "      <td>0.351852</td>\n",
       "      <td>0.327586</td>\n",
       "      <td>0.374790</td>\n",
       "      <td>0.089928</td>\n",
       "      <td>0</td>\n",
       "      <td>0</td>\n",
       "      <td>0</td>\n",
       "      <td>0</td>\n",
       "      <td>0</td>\n",
       "      <td>0</td>\n",
       "      <td>...</td>\n",
       "      <td>0</td>\n",
       "      <td>0</td>\n",
       "      <td>0</td>\n",
       "      <td>0</td>\n",
       "      <td>0</td>\n",
       "      <td>0</td>\n",
       "      <td>0</td>\n",
       "      <td>0</td>\n",
       "      <td>0</td>\n",
       "      <td>0</td>\n",
       "    </tr>\n",
       "    <tr>\n",
       "      <th>4</th>\n",
       "      <td>0.351852</td>\n",
       "      <td>0.379310</td>\n",
       "      <td>0.311850</td>\n",
       "      <td>0.104208</td>\n",
       "      <td>0</td>\n",
       "      <td>0</td>\n",
       "      <td>0</td>\n",
       "      <td>0</td>\n",
       "      <td>1</td>\n",
       "      <td>0</td>\n",
       "      <td>...</td>\n",
       "      <td>0</td>\n",
       "      <td>1</td>\n",
       "      <td>0</td>\n",
       "      <td>0</td>\n",
       "      <td>0</td>\n",
       "      <td>0</td>\n",
       "      <td>0</td>\n",
       "      <td>0</td>\n",
       "      <td>0</td>\n",
       "      <td>0</td>\n",
       "    </tr>\n",
       "    <tr>\n",
       "      <th>...</th>\n",
       "      <td>...</td>\n",
       "      <td>...</td>\n",
       "      <td>...</td>\n",
       "      <td>...</td>\n",
       "      <td>...</td>\n",
       "      <td>...</td>\n",
       "      <td>...</td>\n",
       "      <td>...</td>\n",
       "      <td>...</td>\n",
       "      <td>...</td>\n",
       "      <td>...</td>\n",
       "      <td>...</td>\n",
       "      <td>...</td>\n",
       "      <td>...</td>\n",
       "      <td>...</td>\n",
       "      <td>...</td>\n",
       "      <td>...</td>\n",
       "      <td>...</td>\n",
       "      <td>...</td>\n",
       "      <td>...</td>\n",
       "      <td>...</td>\n",
       "    </tr>\n",
       "    <tr>\n",
       "      <th>375</th>\n",
       "      <td>0.259259</td>\n",
       "      <td>0.637931</td>\n",
       "      <td>0.266700</td>\n",
       "      <td>0.064164</td>\n",
       "      <td>0</td>\n",
       "      <td>0</td>\n",
       "      <td>0</td>\n",
       "      <td>0</td>\n",
       "      <td>0</td>\n",
       "      <td>0</td>\n",
       "      <td>...</td>\n",
       "      <td>0</td>\n",
       "      <td>0</td>\n",
       "      <td>0</td>\n",
       "      <td>0</td>\n",
       "      <td>0</td>\n",
       "      <td>0</td>\n",
       "      <td>0</td>\n",
       "      <td>0</td>\n",
       "      <td>0</td>\n",
       "      <td>0</td>\n",
       "    </tr>\n",
       "    <tr>\n",
       "      <th>376</th>\n",
       "      <td>0.055556</td>\n",
       "      <td>0.293103</td>\n",
       "      <td>0.338872</td>\n",
       "      <td>0.126486</td>\n",
       "      <td>0</td>\n",
       "      <td>0</td>\n",
       "      <td>0</td>\n",
       "      <td>0</td>\n",
       "      <td>0</td>\n",
       "      <td>0</td>\n",
       "      <td>...</td>\n",
       "      <td>0</td>\n",
       "      <td>0</td>\n",
       "      <td>0</td>\n",
       "      <td>0</td>\n",
       "      <td>0</td>\n",
       "      <td>0</td>\n",
       "      <td>0</td>\n",
       "      <td>0</td>\n",
       "      <td>0</td>\n",
       "      <td>0</td>\n",
       "    </tr>\n",
       "    <tr>\n",
       "      <th>377</th>\n",
       "      <td>0.462963</td>\n",
       "      <td>0.224138</td>\n",
       "      <td>0.232377</td>\n",
       "      <td>0.100263</td>\n",
       "      <td>0</td>\n",
       "      <td>0</td>\n",
       "      <td>0</td>\n",
       "      <td>0</td>\n",
       "      <td>0</td>\n",
       "      <td>0</td>\n",
       "      <td>...</td>\n",
       "      <td>0</td>\n",
       "      <td>0</td>\n",
       "      <td>0</td>\n",
       "      <td>0</td>\n",
       "      <td>0</td>\n",
       "      <td>0</td>\n",
       "      <td>0</td>\n",
       "      <td>0</td>\n",
       "      <td>0</td>\n",
       "      <td>0</td>\n",
       "    </tr>\n",
       "    <tr>\n",
       "      <th>378</th>\n",
       "      <td>0.092593</td>\n",
       "      <td>0.655172</td>\n",
       "      <td>0.239594</td>\n",
       "      <td>0.187903</td>\n",
       "      <td>0</td>\n",
       "      <td>0</td>\n",
       "      <td>0</td>\n",
       "      <td>0</td>\n",
       "      <td>0</td>\n",
       "      <td>0</td>\n",
       "      <td>...</td>\n",
       "      <td>0</td>\n",
       "      <td>0</td>\n",
       "      <td>0</td>\n",
       "      <td>0</td>\n",
       "      <td>0</td>\n",
       "      <td>0</td>\n",
       "      <td>0</td>\n",
       "      <td>0</td>\n",
       "      <td>0</td>\n",
       "      <td>0</td>\n",
       "    </tr>\n",
       "    <tr>\n",
       "      <th>379</th>\n",
       "      <td>0.037037</td>\n",
       "      <td>0.275862</td>\n",
       "      <td>0.381420</td>\n",
       "      <td>0.049899</td>\n",
       "      <td>0</td>\n",
       "      <td>0</td>\n",
       "      <td>0</td>\n",
       "      <td>0</td>\n",
       "      <td>0</td>\n",
       "      <td>0</td>\n",
       "      <td>...</td>\n",
       "      <td>0</td>\n",
       "      <td>0</td>\n",
       "      <td>0</td>\n",
       "      <td>0</td>\n",
       "      <td>0</td>\n",
       "      <td>0</td>\n",
       "      <td>0</td>\n",
       "      <td>0</td>\n",
       "      <td>0</td>\n",
       "      <td>0</td>\n",
       "    </tr>\n",
       "  </tbody>\n",
       "</table>\n",
       "<p>380 rows × 95 columns</p>\n",
       "</div>"
      ],
      "text/plain": [
       "     subtitleCourseNum  pictureNum  lengthOfDescription  \\\n",
       "0             0.111111    0.137931             0.175227   \n",
       "1             0.222222    0.327586             0.537932   \n",
       "2             0.148148    0.155172             0.215509   \n",
       "3             0.351852    0.327586             0.374790   \n",
       "4             0.351852    0.379310             0.311850   \n",
       "..                 ...         ...                  ...   \n",
       "375           0.259259    0.637931             0.266700   \n",
       "376           0.055556    0.293103             0.338872   \n",
       "377           0.462963    0.224138             0.232377   \n",
       "378           0.092593    0.655172             0.239594   \n",
       "379           0.037037    0.275862             0.381420   \n",
       "\n",
       "     totalVideoLengthInSeconds  group__title_人文  group__title_手作  \\\n",
       "0                     0.102523                0                0   \n",
       "1                     0.139920                0                0   \n",
       "2                     0.052911                0                0   \n",
       "3                     0.089928                0                0   \n",
       "4                     0.104208                0                0   \n",
       "..                         ...              ...              ...   \n",
       "375                   0.064164                0                0   \n",
       "376                   0.126486                0                0   \n",
       "377                   0.100263                0                0   \n",
       "378                   0.187903                0                0   \n",
       "379                   0.049899                0                0   \n",
       "\n",
       "     group__title_投資理財  group__title_攝影  group__title_生活品味  group__title_程式  \\\n",
       "0                    0                0                  1                0   \n",
       "1                    0                0                  1                0   \n",
       "2                    0                0                  0                0   \n",
       "3                    0                0                  0                0   \n",
       "4                    0                0                  1                0   \n",
       "..                 ...              ...                ...              ...   \n",
       "375                  0                0                  0                0   \n",
       "376                  0                0                  0                0   \n",
       "377                  0                0                  0                0   \n",
       "378                  0                0                  0                0   \n",
       "379                  0                0                  0                0   \n",
       "\n",
       "     ...  group__subGroup__title_遊戲開發  group__subGroup__title_運動  \\\n",
       "0    ...                            0                          1   \n",
       "1    ...                            0                          1   \n",
       "2    ...                            0                          0   \n",
       "3    ...                            0                          0   \n",
       "4    ...                            0                          1   \n",
       "..   ...                          ...                        ...   \n",
       "375  ...                            0                          0   \n",
       "376  ...                            0                          0   \n",
       "377  ...                            0                          0   \n",
       "378  ...                            0                          0   \n",
       "379  ...                            0                          0   \n",
       "\n",
       "     group__subGroup__title_量化交易  group__subGroup__title_量化分析  \\\n",
       "0                              0                            0   \n",
       "1                              0                            0   \n",
       "2                              0                            0   \n",
       "3                              0                            0   \n",
       "4                              0                            0   \n",
       "..                           ...                          ...   \n",
       "375                            0                            0   \n",
       "376                            0                            0   \n",
       "377                            0                            0   \n",
       "378                            0                            0   \n",
       "379                            0                            0   \n",
       "\n",
       "     group__subGroup__title_金融商品  group__subGroup__title_電腦繪圖  \\\n",
       "0                              0                            0   \n",
       "1                              0                            0   \n",
       "2                              0                            0   \n",
       "3                              0                            0   \n",
       "4                              0                            0   \n",
       "..                           ...                          ...   \n",
       "375                            0                            0   \n",
       "376                            0                            0   \n",
       "377                            0                            0   \n",
       "378                            0                            0   \n",
       "379                            0                            0   \n",
       "\n",
       "     group__subGroup__title_靈性發展  group__subGroup__title_韓文  \\\n",
       "0                              0                          0   \n",
       "1                              0                          0   \n",
       "2                              0                          0   \n",
       "3                              0                          0   \n",
       "4                              0                          0   \n",
       "..                           ...                        ...   \n",
       "375                            0                          0   \n",
       "376                            0                          0   \n",
       "377                            0                          0   \n",
       "378                            0                          0   \n",
       "379                            0                          0   \n",
       "\n",
       "     group__subGroup__title_音樂創作  group__subGroup__title_體程式開發與維護  \n",
       "0                              0                                0  \n",
       "1                              0                                0  \n",
       "2                              0                                0  \n",
       "3                              0                                0  \n",
       "4                              0                                0  \n",
       "..                           ...                              ...  \n",
       "375                            0                                0  \n",
       "376                            0                                0  \n",
       "377                            0                                0  \n",
       "378                            0                                0  \n",
       "379                            0                                0  \n",
       "\n",
       "[380 rows x 95 columns]"
      ]
     },
     "execution_count": 51,
     "metadata": {},
     "output_type": "execute_result"
    }
   ],
   "source": [
    "# minmax、dummy\n",
    "\n",
    "from sklearn.preprocessing import MinMaxScaler\n",
    "\n",
    "digit_columns = ['subtitleCourseNum', 'pictureNum', 'lengthOfDescription', 'totalVideoLengthInSeconds']\n",
    "category_columns = [c for c in columns if c not in digit_columns]\n",
    "\n",
    "scaler = MinMaxScaler()\n",
    "scaler = scaler.fit(train_method2[digit_columns])\n",
    "train_method2[digit_columns] = scaler.transform(train_method2[digit_columns])\n",
    "\n",
    "train_method2 = pd.get_dummies(train_method2, columns = category_columns)\n",
    "train_method2"
   ]
  },
  {
   "cell_type": "code",
   "execution_count": 52,
   "id": "700d93ba",
   "metadata": {},
   "outputs": [],
   "source": [
    "# val_method2 = pd.get_dummies(val_method2, columns = category_columns)\n",
    "# val_method2"
   ]
  },
  {
   "cell_type": "code",
   "execution_count": 53,
   "id": "d79af6a3",
   "metadata": {},
   "outputs": [],
   "source": [
    "# a = list(train_method2.columns)\n",
    "# b = list(val_method2.columns)\n",
    "# c = []\n",
    "# c.extend(a)\n",
    "# c.extend(b)\n",
    "# print(c)\n",
    "# columns_pool = set(c)\n",
    "# val_method2_adjusted = pd.DataFrame(columns = columns_pool)\n",
    "# train_method2_adjusted = pd.DataFrame(columns = columns_pool)\n",
    "\n",
    "# for column in columns_pool:\n",
    "#     if column in val_method2.columns:\n",
    "#         val_method2_adjusted[column] = val_method2[column].values\n",
    "#     else:\n",
    "#         val_method2_adjusted[column] = [0 for i in range(len(val_method2))]\n",
    "        \n",
    "# for column in columns_pool:\n",
    "#     if column in train_method2.columns:\n",
    "#         train_method2_adjusted[column] = train_method2[column].values\n",
    "#     else:\n",
    "#         train_method2_adjusted[column] = [0 for i in range(len(train_method2))]\n",
    "        \n",
    "# val_method2_adjusted"
   ]
  },
  {
   "cell_type": "code",
   "execution_count": 54,
   "id": "a3dac3c6",
   "metadata": {},
   "outputs": [
    {
     "name": "stdout",
     "output_type": "stream",
     "text": [
      "RMSE :  3053.780622\n"
     ]
    }
   ],
   "source": [
    "# XGBoost\n",
    "from sklearn.metrics import mean_squared_error as MSE\n",
    "from xgboost import XGBRegressor\n",
    "\n",
    "model = XGBRegressor()\n",
    "\n",
    "cv = KFold(n_splits = 10, random_state = 5, shuffle = True)\n",
    "scores = cross_val_score(model, train_method2, y_train, scoring = 'neg_mean_squared_error',\n",
    "                         cv = cv, n_jobs = -1)\n",
    "\n",
    "print(\"RMSE : % f\" %(np.mean(np.sqrt(np.abs(scores)))))"
   ]
  },
  {
   "cell_type": "code",
   "execution_count": 55,
   "id": "e8a90a4e",
   "metadata": {},
   "outputs": [
    {
     "name": "stdout",
     "output_type": "stream",
     "text": [
      "RMSE :  2969.508614\n"
     ]
    }
   ],
   "source": [
    "# RandomForrest\n",
    "from sklearn.metrics import mean_squared_error as MSE\n",
    "from sklearn.ensemble import RandomForestRegressor\n",
    "\n",
    "model = RandomForestRegressor()\n",
    "\n",
    "cv = KFold(n_splits = 10, random_state = 5, shuffle = True)\n",
    "scores = cross_val_score(model, train_method2, y_train, scoring = 'neg_mean_squared_error',\n",
    "                         cv = cv, n_jobs = -1)\n",
    "\n",
    "print(\"RMSE : % f\" %(np.mean(np.sqrt(np.abs(scores)))))"
   ]
  },
  {
   "cell_type": "code",
   "execution_count": 56,
   "id": "1cdc3635",
   "metadata": {},
   "outputs": [
    {
     "name": "stdout",
     "output_type": "stream",
     "text": [
      "RMSE :  2538.433224\n"
     ]
    }
   ],
   "source": [
    "# SVM\n",
    "from sklearn.metrics import mean_squared_error as MSE\n",
    "from sklearn.svm import SVR\n",
    "\n",
    "model = SVR()\n",
    "\n",
    "cv = KFold(n_splits = 10, random_state = 5, shuffle = True)\n",
    "scores = cross_val_score(model, train_method2, y_train, scoring = 'neg_mean_squared_error',\n",
    "                         cv = cv, n_jobs = -1)\n",
    "\n",
    "print(\"RMSE : % f\" %(np.mean(np.sqrt(np.abs(scores)))))"
   ]
  },
  {
   "cell_type": "markdown",
   "id": "0a5afa81",
   "metadata": {},
   "source": [
    "# 第三種挑法"
   ]
  },
  {
   "cell_type": "code",
   "execution_count": 169,
   "id": "23c89d1f",
   "metadata": {},
   "outputs": [],
   "source": [
    "columns = ['setUpCoursesAgain', 'owner__name', 'courseNumHistry', 'isBrand', 'averageRatingHistry', 'total_fans']"
   ]
  },
  {
   "cell_type": "code",
   "execution_count": 170,
   "id": "6b09f5b4",
   "metadata": {},
   "outputs": [],
   "source": [
    "train_method3 = train[columns]"
   ]
  },
  {
   "cell_type": "code",
   "execution_count": 171,
   "id": "91780985",
   "metadata": {},
   "outputs": [
    {
     "name": "stderr",
     "output_type": "stream",
     "text": [
      "C:\\Users\\ChenPoYen\\anaconda3\\lib\\site-packages\\pandas\\core\\frame.py:3678: SettingWithCopyWarning: \n",
      "A value is trying to be set on a copy of a slice from a DataFrame.\n",
      "Try using .loc[row_indexer,col_indexer] = value instead\n",
      "\n",
      "See the caveats in the documentation: https://pandas.pydata.org/pandas-docs/stable/user_guide/indexing.html#returning-a-view-versus-a-copy\n",
      "  self[col] = igetitem(value, i)\n"
     ]
    },
    {
     "data": {
      "text/html": [
       "<div>\n",
       "<style scoped>\n",
       "    .dataframe tbody tr th:only-of-type {\n",
       "        vertical-align: middle;\n",
       "    }\n",
       "\n",
       "    .dataframe tbody tr th {\n",
       "        vertical-align: top;\n",
       "    }\n",
       "\n",
       "    .dataframe thead th {\n",
       "        text-align: right;\n",
       "    }\n",
       "</style>\n",
       "<table border=\"1\" class=\"dataframe\">\n",
       "  <thead>\n",
       "    <tr style=\"text-align: right;\">\n",
       "      <th></th>\n",
       "      <th>setUpCoursesAgain</th>\n",
       "      <th>courseNumHistry</th>\n",
       "      <th>isBrand</th>\n",
       "      <th>averageRatingHistry</th>\n",
       "      <th>total_fans</th>\n",
       "      <th>owner__name_4Samantha 莎曼莎</th>\n",
       "      <th>owner__name_617行銷筆記</th>\n",
       "      <th>owner__name_653studio</th>\n",
       "      <th>owner__name_67arrow</th>\n",
       "      <th>owner__name_AI . FREE Team</th>\n",
       "      <th>...</th>\n",
       "      <th>owner__name_韓諆璋 Jonathan</th>\n",
       "      <th>owner__name_頂尖國際工程顧問有限公司</th>\n",
       "      <th>owner__name_食癮，拾影</th>\n",
       "      <th>owner__name_馬卡龍腳趾Macaron TOE</th>\n",
       "      <th>owner__name_高培 Gaopei</th>\n",
       "      <th>owner__name_高義勝</th>\n",
       "      <th>owner__name_魏美棻 Nancy Wei</th>\n",
       "      <th>owner__name_魚魚</th>\n",
       "      <th>owner__name_鮮矣仁</th>\n",
       "      <th>owner__name_黃子瑜 (Fish)</th>\n",
       "    </tr>\n",
       "  </thead>\n",
       "  <tbody>\n",
       "    <tr>\n",
       "      <th>0</th>\n",
       "      <td>1.0</td>\n",
       "      <td>0.2</td>\n",
       "      <td>0.0</td>\n",
       "      <td>0.984</td>\n",
       "      <td>0.081970</td>\n",
       "      <td>0</td>\n",
       "      <td>0</td>\n",
       "      <td>0</td>\n",
       "      <td>0</td>\n",
       "      <td>0</td>\n",
       "      <td>...</td>\n",
       "      <td>0</td>\n",
       "      <td>0</td>\n",
       "      <td>0</td>\n",
       "      <td>0</td>\n",
       "      <td>0</td>\n",
       "      <td>0</td>\n",
       "      <td>0</td>\n",
       "      <td>0</td>\n",
       "      <td>0</td>\n",
       "      <td>0</td>\n",
       "    </tr>\n",
       "    <tr>\n",
       "      <th>1</th>\n",
       "      <td>1.0</td>\n",
       "      <td>0.2</td>\n",
       "      <td>0.0</td>\n",
       "      <td>0.986</td>\n",
       "      <td>0.060833</td>\n",
       "      <td>0</td>\n",
       "      <td>0</td>\n",
       "      <td>0</td>\n",
       "      <td>0</td>\n",
       "      <td>0</td>\n",
       "      <td>...</td>\n",
       "      <td>0</td>\n",
       "      <td>0</td>\n",
       "      <td>0</td>\n",
       "      <td>0</td>\n",
       "      <td>0</td>\n",
       "      <td>0</td>\n",
       "      <td>0</td>\n",
       "      <td>0</td>\n",
       "      <td>0</td>\n",
       "      <td>0</td>\n",
       "    </tr>\n",
       "    <tr>\n",
       "      <th>2</th>\n",
       "      <td>0.0</td>\n",
       "      <td>0.0</td>\n",
       "      <td>0.0</td>\n",
       "      <td>0.000</td>\n",
       "      <td>0.063815</td>\n",
       "      <td>0</td>\n",
       "      <td>0</td>\n",
       "      <td>0</td>\n",
       "      <td>0</td>\n",
       "      <td>0</td>\n",
       "      <td>...</td>\n",
       "      <td>0</td>\n",
       "      <td>0</td>\n",
       "      <td>0</td>\n",
       "      <td>0</td>\n",
       "      <td>0</td>\n",
       "      <td>0</td>\n",
       "      <td>0</td>\n",
       "      <td>0</td>\n",
       "      <td>0</td>\n",
       "      <td>0</td>\n",
       "    </tr>\n",
       "    <tr>\n",
       "      <th>3</th>\n",
       "      <td>1.0</td>\n",
       "      <td>0.2</td>\n",
       "      <td>0.0</td>\n",
       "      <td>0.994</td>\n",
       "      <td>0.002444</td>\n",
       "      <td>0</td>\n",
       "      <td>0</td>\n",
       "      <td>0</td>\n",
       "      <td>0</td>\n",
       "      <td>0</td>\n",
       "      <td>...</td>\n",
       "      <td>0</td>\n",
       "      <td>0</td>\n",
       "      <td>0</td>\n",
       "      <td>0</td>\n",
       "      <td>0</td>\n",
       "      <td>0</td>\n",
       "      <td>0</td>\n",
       "      <td>0</td>\n",
       "      <td>0</td>\n",
       "      <td>0</td>\n",
       "    </tr>\n",
       "    <tr>\n",
       "      <th>4</th>\n",
       "      <td>1.0</td>\n",
       "      <td>0.6</td>\n",
       "      <td>0.0</td>\n",
       "      <td>0.662</td>\n",
       "      <td>0.060833</td>\n",
       "      <td>0</td>\n",
       "      <td>0</td>\n",
       "      <td>0</td>\n",
       "      <td>0</td>\n",
       "      <td>0</td>\n",
       "      <td>...</td>\n",
       "      <td>0</td>\n",
       "      <td>0</td>\n",
       "      <td>0</td>\n",
       "      <td>0</td>\n",
       "      <td>0</td>\n",
       "      <td>0</td>\n",
       "      <td>0</td>\n",
       "      <td>0</td>\n",
       "      <td>0</td>\n",
       "      <td>0</td>\n",
       "    </tr>\n",
       "    <tr>\n",
       "      <th>...</th>\n",
       "      <td>...</td>\n",
       "      <td>...</td>\n",
       "      <td>...</td>\n",
       "      <td>...</td>\n",
       "      <td>...</td>\n",
       "      <td>...</td>\n",
       "      <td>...</td>\n",
       "      <td>...</td>\n",
       "      <td>...</td>\n",
       "      <td>...</td>\n",
       "      <td>...</td>\n",
       "      <td>...</td>\n",
       "      <td>...</td>\n",
       "      <td>...</td>\n",
       "      <td>...</td>\n",
       "      <td>...</td>\n",
       "      <td>...</td>\n",
       "      <td>...</td>\n",
       "      <td>...</td>\n",
       "      <td>...</td>\n",
       "      <td>...</td>\n",
       "    </tr>\n",
       "    <tr>\n",
       "      <th>375</th>\n",
       "      <td>1.0</td>\n",
       "      <td>0.4</td>\n",
       "      <td>0.0</td>\n",
       "      <td>0.970</td>\n",
       "      <td>0.025989</td>\n",
       "      <td>0</td>\n",
       "      <td>0</td>\n",
       "      <td>0</td>\n",
       "      <td>0</td>\n",
       "      <td>0</td>\n",
       "      <td>...</td>\n",
       "      <td>0</td>\n",
       "      <td>0</td>\n",
       "      <td>0</td>\n",
       "      <td>0</td>\n",
       "      <td>0</td>\n",
       "      <td>0</td>\n",
       "      <td>0</td>\n",
       "      <td>0</td>\n",
       "      <td>0</td>\n",
       "      <td>0</td>\n",
       "    </tr>\n",
       "    <tr>\n",
       "      <th>376</th>\n",
       "      <td>0.0</td>\n",
       "      <td>0.0</td>\n",
       "      <td>0.0</td>\n",
       "      <td>0.000</td>\n",
       "      <td>0.004244</td>\n",
       "      <td>0</td>\n",
       "      <td>0</td>\n",
       "      <td>0</td>\n",
       "      <td>0</td>\n",
       "      <td>0</td>\n",
       "      <td>...</td>\n",
       "      <td>0</td>\n",
       "      <td>0</td>\n",
       "      <td>0</td>\n",
       "      <td>0</td>\n",
       "      <td>0</td>\n",
       "      <td>0</td>\n",
       "      <td>0</td>\n",
       "      <td>0</td>\n",
       "      <td>0</td>\n",
       "      <td>0</td>\n",
       "    </tr>\n",
       "    <tr>\n",
       "      <th>377</th>\n",
       "      <td>1.0</td>\n",
       "      <td>0.2</td>\n",
       "      <td>0.0</td>\n",
       "      <td>0.776</td>\n",
       "      <td>0.013941</td>\n",
       "      <td>0</td>\n",
       "      <td>0</td>\n",
       "      <td>0</td>\n",
       "      <td>0</td>\n",
       "      <td>0</td>\n",
       "      <td>...</td>\n",
       "      <td>0</td>\n",
       "      <td>0</td>\n",
       "      <td>0</td>\n",
       "      <td>0</td>\n",
       "      <td>0</td>\n",
       "      <td>0</td>\n",
       "      <td>0</td>\n",
       "      <td>0</td>\n",
       "      <td>0</td>\n",
       "      <td>0</td>\n",
       "    </tr>\n",
       "    <tr>\n",
       "      <th>378</th>\n",
       "      <td>0.0</td>\n",
       "      <td>0.0</td>\n",
       "      <td>0.0</td>\n",
       "      <td>0.000</td>\n",
       "      <td>0.002732</td>\n",
       "      <td>0</td>\n",
       "      <td>0</td>\n",
       "      <td>0</td>\n",
       "      <td>0</td>\n",
       "      <td>0</td>\n",
       "      <td>...</td>\n",
       "      <td>0</td>\n",
       "      <td>0</td>\n",
       "      <td>0</td>\n",
       "      <td>0</td>\n",
       "      <td>0</td>\n",
       "      <td>0</td>\n",
       "      <td>0</td>\n",
       "      <td>0</td>\n",
       "      <td>0</td>\n",
       "      <td>0</td>\n",
       "    </tr>\n",
       "    <tr>\n",
       "      <th>379</th>\n",
       "      <td>0.0</td>\n",
       "      <td>0.0</td>\n",
       "      <td>1.0</td>\n",
       "      <td>0.000</td>\n",
       "      <td>0.001999</td>\n",
       "      <td>0</td>\n",
       "      <td>0</td>\n",
       "      <td>1</td>\n",
       "      <td>0</td>\n",
       "      <td>0</td>\n",
       "      <td>...</td>\n",
       "      <td>0</td>\n",
       "      <td>0</td>\n",
       "      <td>0</td>\n",
       "      <td>0</td>\n",
       "      <td>0</td>\n",
       "      <td>0</td>\n",
       "      <td>0</td>\n",
       "      <td>0</td>\n",
       "      <td>0</td>\n",
       "      <td>0</td>\n",
       "    </tr>\n",
       "  </tbody>\n",
       "</table>\n",
       "<p>380 rows × 326 columns</p>\n",
       "</div>"
      ],
      "text/plain": [
       "     setUpCoursesAgain  courseNumHistry  isBrand  averageRatingHistry  \\\n",
       "0                  1.0              0.2      0.0                0.984   \n",
       "1                  1.0              0.2      0.0                0.986   \n",
       "2                  0.0              0.0      0.0                0.000   \n",
       "3                  1.0              0.2      0.0                0.994   \n",
       "4                  1.0              0.6      0.0                0.662   \n",
       "..                 ...              ...      ...                  ...   \n",
       "375                1.0              0.4      0.0                0.970   \n",
       "376                0.0              0.0      0.0                0.000   \n",
       "377                1.0              0.2      0.0                0.776   \n",
       "378                0.0              0.0      0.0                0.000   \n",
       "379                0.0              0.0      1.0                0.000   \n",
       "\n",
       "     total_fans  owner__name_4Samantha 莎曼莎  owner__name_617行銷筆記  \\\n",
       "0      0.081970                          0                    0   \n",
       "1      0.060833                          0                    0   \n",
       "2      0.063815                          0                    0   \n",
       "3      0.002444                          0                    0   \n",
       "4      0.060833                          0                    0   \n",
       "..          ...                        ...                  ...   \n",
       "375    0.025989                          0                    0   \n",
       "376    0.004244                          0                    0   \n",
       "377    0.013941                          0                    0   \n",
       "378    0.002732                          0                    0   \n",
       "379    0.001999                          0                    0   \n",
       "\n",
       "     owner__name_653studio  owner__name_67arrow  owner__name_AI . FREE Team  \\\n",
       "0                        0                    0                           0   \n",
       "1                        0                    0                           0   \n",
       "2                        0                    0                           0   \n",
       "3                        0                    0                           0   \n",
       "4                        0                    0                           0   \n",
       "..                     ...                  ...                         ...   \n",
       "375                      0                    0                           0   \n",
       "376                      0                    0                           0   \n",
       "377                      0                    0                           0   \n",
       "378                      0                    0                           0   \n",
       "379                      1                    0                           0   \n",
       "\n",
       "     ...  owner__name_韓諆璋 Jonathan  owner__name_頂尖國際工程顧問有限公司  \\\n",
       "0    ...                         0                         0   \n",
       "1    ...                         0                         0   \n",
       "2    ...                         0                         0   \n",
       "3    ...                         0                         0   \n",
       "4    ...                         0                         0   \n",
       "..   ...                       ...                       ...   \n",
       "375  ...                         0                         0   \n",
       "376  ...                         0                         0   \n",
       "377  ...                         0                         0   \n",
       "378  ...                         0                         0   \n",
       "379  ...                         0                         0   \n",
       "\n",
       "     owner__name_食癮，拾影  owner__name_馬卡龍腳趾Macaron TOE  owner__name_高培 Gaopei  \\\n",
       "0                    0                             0                      0   \n",
       "1                    0                             0                      0   \n",
       "2                    0                             0                      0   \n",
       "3                    0                             0                      0   \n",
       "4                    0                             0                      0   \n",
       "..                 ...                           ...                    ...   \n",
       "375                  0                             0                      0   \n",
       "376                  0                             0                      0   \n",
       "377                  0                             0                      0   \n",
       "378                  0                             0                      0   \n",
       "379                  0                             0                      0   \n",
       "\n",
       "     owner__name_高義勝  owner__name_魏美棻 Nancy Wei  owner__name_魚魚  \\\n",
       "0                  0                          0               0   \n",
       "1                  0                          0               0   \n",
       "2                  0                          0               0   \n",
       "3                  0                          0               0   \n",
       "4                  0                          0               0   \n",
       "..               ...                        ...             ...   \n",
       "375                0                          0               0   \n",
       "376                0                          0               0   \n",
       "377                0                          0               0   \n",
       "378                0                          0               0   \n",
       "379                0                          0               0   \n",
       "\n",
       "     owner__name_鮮矣仁  owner__name_黃子瑜 (Fish)  \n",
       "0                  0                       0  \n",
       "1                  0                       0  \n",
       "2                  0                       0  \n",
       "3                  0                       0  \n",
       "4                  0                       0  \n",
       "..               ...                     ...  \n",
       "375                0                       0  \n",
       "376                0                       0  \n",
       "377                0                       0  \n",
       "378                0                       0  \n",
       "379                0                       0  \n",
       "\n",
       "[380 rows x 326 columns]"
      ]
     },
     "execution_count": 171,
     "metadata": {},
     "output_type": "execute_result"
    }
   ],
   "source": [
    "# minmax、dummy\n",
    "\n",
    "from sklearn.preprocessing import MinMaxScaler\n",
    "\n",
    "digit_columns = ['setUpCoursesAgain', 'courseNumHistry', 'isBrand', 'averageRatingHistry', 'total_fans']\n",
    "category_columns = [c for c in columns if c not in digit_columns]\n",
    "\n",
    "scaler = MinMaxScaler()\n",
    "scaler = scaler.fit(train_method3[digit_columns])\n",
    "train_method3[digit_columns] = scaler.transform(train_method3[digit_columns])\n",
    "\n",
    "train_method3 = pd.get_dummies(train_method3, columns = category_columns)\n",
    "train_method3"
   ]
  },
  {
   "cell_type": "code",
   "execution_count": 60,
   "id": "5626608f",
   "metadata": {},
   "outputs": [],
   "source": [
    "# val_method3 = pd.get_dummies(val_method3, columns = category_columns)\n",
    "# val_method3"
   ]
  },
  {
   "cell_type": "code",
   "execution_count": 61,
   "id": "af9218eb",
   "metadata": {},
   "outputs": [],
   "source": [
    "# a = list(train_method3.columns)\n",
    "# b = list(val_method3.columns)\n",
    "# c = []\n",
    "# c.extend(a)\n",
    "# c.extend(b)\n",
    "# print(c)\n",
    "# columns_pool = set(c)\n",
    "# val_method3_adjusted = pd.DataFrame(columns = columns_pool)\n",
    "# train_method3_adjusted = pd.DataFrame(columns = columns_pool)\n",
    "\n",
    "# for column in columns_pool:\n",
    "#     if column in val_method3.columns:\n",
    "#         val_method3_adjusted[column] = val_method3[column].values\n",
    "#     else:\n",
    "#         val_method3_adjusted[column] = [0 for i in range(len(val_method3))]\n",
    "        \n",
    "# for column in columns_pool:\n",
    "#     if column in train_method3.columns:\n",
    "#         train_method3_adjusted[column] = train_method3[column].values\n",
    "#     else:\n",
    "#         train_method3_adjusted[column] = [0 for i in range(len(train_method3))]\n",
    "        \n",
    "# val_method3_adjusted"
   ]
  },
  {
   "cell_type": "code",
   "execution_count": 62,
   "id": "d42e6827",
   "metadata": {},
   "outputs": [
    {
     "name": "stdout",
     "output_type": "stream",
     "text": [
      "RMSE :  2543.313836\n"
     ]
    }
   ],
   "source": [
    "# XGBoost\n",
    "from sklearn.metrics import mean_squared_error as MSE\n",
    "from xgboost import XGBRegressor\n",
    "\n",
    "model = XGBRegressor()\n",
    "\n",
    "cv = KFold(n_splits = 10, random_state = 5, shuffle = True)\n",
    "scores = cross_val_score(model, train_method3, y_train, scoring = 'neg_mean_squared_error',\n",
    "                         cv = cv, n_jobs = -1)\n",
    "\n",
    "print(\"RMSE : % f\" %(np.mean(np.sqrt(np.abs(scores)))))"
   ]
  },
  {
   "cell_type": "code",
   "execution_count": 63,
   "id": "92857e1c",
   "metadata": {},
   "outputs": [
    {
     "name": "stdout",
     "output_type": "stream",
     "text": [
      "RMSE :  2510.536174\n"
     ]
    }
   ],
   "source": [
    "# RandomForrest\n",
    "from sklearn.metrics import mean_squared_error as MSE\n",
    "from sklearn.ensemble import RandomForestRegressor\n",
    "\n",
    "model = RandomForestRegressor()\n",
    "\n",
    "cv = KFold(n_splits = 10, random_state = 5, shuffle = True)\n",
    "scores = cross_val_score(model, train_method3, y_train, scoring = 'neg_mean_squared_error',\n",
    "                         cv = cv, n_jobs = -1)\n",
    "\n",
    "print(\"RMSE : % f\" %(np.mean(np.sqrt(np.abs(scores)))))"
   ]
  },
  {
   "cell_type": "code",
   "execution_count": 64,
   "id": "b0bc2157",
   "metadata": {},
   "outputs": [
    {
     "name": "stdout",
     "output_type": "stream",
     "text": [
      "RMSE :  2539.007990\n"
     ]
    }
   ],
   "source": [
    "# SVM\n",
    "from sklearn.metrics import mean_squared_error as MSE\n",
    "from sklearn.svm import SVR\n",
    "\n",
    "model = SVR()\n",
    "\n",
    "cv = KFold(n_splits = 10, random_state = 5, shuffle = True)\n",
    "scores = cross_val_score(model, train_method3, y_train, scoring = 'neg_mean_squared_error',\n",
    "                         cv = cv, n_jobs = -1)\n",
    "\n",
    "print(\"RMSE : % f\" %(np.mean(np.sqrt(np.abs(scores)))))"
   ]
  },
  {
   "cell_type": "markdown",
   "id": "c1a43d20",
   "metadata": {},
   "source": [
    "# 第四種挑法"
   ]
  },
  {
   "cell_type": "code",
   "execution_count": 65,
   "id": "e8981513",
   "metadata": {},
   "outputs": [],
   "source": [
    "columns = ['teacher_metaDescription_similarity','teacher_group__subGroup__title_similarity',\n",
    "            'teacher_targetGroup_similarity',\n",
    "            'teacher_title_similarity',\n",
    "            'teacher_group__title_similarity', 'teacher_recommendedBackground_similarity', 'teacher_willLearn_similarity',\n",
    "            'teacher_requiredTools_similarity']"
   ]
  },
  {
   "cell_type": "code",
   "execution_count": 66,
   "id": "2c69f791",
   "metadata": {},
   "outputs": [],
   "source": [
    "train_method4 = train[columns]"
   ]
  },
  {
   "cell_type": "code",
   "execution_count": 67,
   "id": "7b89c58e",
   "metadata": {},
   "outputs": [],
   "source": [
    "# minmax、dummy\n",
    "\n",
    "from sklearn.preprocessing import MinMaxScaler\n",
    "\n",
    "scaler = MinMaxScaler()\n",
    "scaler = scaler.fit(train_method4)\n",
    "train_method4 = scaler.transform(train_method4)"
   ]
  },
  {
   "cell_type": "code",
   "execution_count": 68,
   "id": "b9000272",
   "metadata": {},
   "outputs": [
    {
     "name": "stdout",
     "output_type": "stream",
     "text": [
      "RMSE :  5542.011635\n"
     ]
    }
   ],
   "source": [
    "# XGBoost\n",
    "from sklearn.metrics import mean_squared_error as MSE\n",
    "from xgboost import XGBRegressor\n",
    "\n",
    "model = XGBRegressor()\n",
    "\n",
    "cv = KFold(n_splits = 10, random_state = 5, shuffle = True)\n",
    "scores = cross_val_score(model, train_method4, y_train, scoring = 'neg_mean_squared_error',\n",
    "                         cv = cv, n_jobs = -1)\n",
    "\n",
    "print(\"RMSE : % f\" %(np.mean(np.sqrt(np.abs(scores)))))"
   ]
  },
  {
   "cell_type": "code",
   "execution_count": 69,
   "id": "16ca3a4c",
   "metadata": {},
   "outputs": [
    {
     "name": "stdout",
     "output_type": "stream",
     "text": [
      "RMSE :  3896.055153\n"
     ]
    }
   ],
   "source": [
    "# RandomForrest\n",
    "from sklearn.metrics import mean_squared_error as MSE\n",
    "from sklearn.ensemble import RandomForestRegressor\n",
    "\n",
    "model = RandomForestRegressor()\n",
    "\n",
    "cv = KFold(n_splits = 10, random_state = 5, shuffle = True)\n",
    "scores = cross_val_score(model, train_method4, y_train, scoring = 'neg_mean_squared_error',\n",
    "                         cv = cv, n_jobs = -1)\n",
    "\n",
    "print(\"RMSE : % f\" %(np.mean(np.sqrt(np.abs(scores)))))"
   ]
  },
  {
   "cell_type": "code",
   "execution_count": 71,
   "id": "1bdb46f2",
   "metadata": {},
   "outputs": [
    {
     "name": "stdout",
     "output_type": "stream",
     "text": [
      "RMSE :  2538.332320\n"
     ]
    }
   ],
   "source": [
    "# SVM\n",
    "from sklearn.metrics import mean_squared_error as MSE\n",
    "from sklearn.svm import SVR\n",
    "\n",
    "model = SVR()\n",
    "\n",
    "cv = KFold(n_splits = 10, random_state = 5, shuffle = True)\n",
    "scores = cross_val_score(model, train_method4, y_train, scoring = 'neg_mean_squared_error',\n",
    "                         cv = cv, n_jobs = -1)\n",
    "\n",
    "print(\"RMSE : % f\" %(np.mean(np.sqrt(np.abs(scores)))))"
   ]
  },
  {
   "cell_type": "markdown",
   "id": "bb0790f8",
   "metadata": {},
   "source": [
    "# 第五種挑法"
   ]
  },
  {
   "cell_type": "code",
   "execution_count": 73,
   "id": "33f5cd05",
   "metadata": {},
   "outputs": [],
   "source": [
    "columns = ['preOrderedPrice', 'price', 'courseCP',\n",
    "\n",
    "'group__title', 'group__subGroup__title', 'subtitleCourseNum',\n",
    "'pictureNum', 'lengthOfDescription', 'totalVideoLengthInSeconds',\n",
    "\n",
    "'setUpCoursesAgain', 'owner__name', 'courseNumHistry', 'isBrand', 'averageRatingHistry', 'total_fans',\n",
    "\n",
    "'teacher_metaDescription_similarity', 'teacher_group__subGroup__title_similarity',\n",
    "'teacher_targetGroup_similarity',\n",
    "'teacher_title_similarity',\n",
    "'teacher_group__title_similarity','teacher_recommendedBackground_similarity', 'teacher_willLearn_similarity',\n",
    "'teacher_requiredTools_similarity']"
   ]
  },
  {
   "cell_type": "code",
   "execution_count": 74,
   "id": "543def77",
   "metadata": {},
   "outputs": [],
   "source": [
    "train_method5 = train[columns]"
   ]
  },
  {
   "cell_type": "code",
   "execution_count": 75,
   "id": "f77676ac",
   "metadata": {},
   "outputs": [
    {
     "name": "stderr",
     "output_type": "stream",
     "text": [
      "C:\\Users\\ChenPoYen\\anaconda3\\lib\\site-packages\\pandas\\core\\frame.py:3678: SettingWithCopyWarning: \n",
      "A value is trying to be set on a copy of a slice from a DataFrame.\n",
      "Try using .loc[row_indexer,col_indexer] = value instead\n",
      "\n",
      "See the caveats in the documentation: https://pandas.pydata.org/pandas-docs/stable/user_guide/indexing.html#returning-a-view-versus-a-copy\n",
      "  self[col] = igetitem(value, i)\n"
     ]
    }
   ],
   "source": [
    "# minmax、dummy\n",
    "\n",
    "from sklearn.preprocessing import MinMaxScaler\n",
    "\n",
    "digit_columns = ['setUpCoursesAgain', 'courseNumHistry', 'isBrand', 'averageRatingHistry', 'total_fans','subtitleCourseNum',\n",
    "'pictureNum', 'lengthOfDescription', 'totalVideoLengthInSeconds','preOrderedPrice', 'price', 'courseCP','teacher_metaDescription_similarity', 'teacher_group__subGroup__title_similarity',\n",
    "'teacher_targetGroup_similarity',\n",
    "'teacher_title_similarity',\n",
    "'teacher_group__title_similarity','teacher_recommendedBackground_similarity', 'teacher_willLearn_similarity',\n",
    "'teacher_requiredTools_similarity']\n",
    "\n",
    "category_columns = [c for c in columns if c not in digit_columns]\n",
    "\n",
    "scaler = MinMaxScaler()\n",
    "scaler = scaler.fit(train_method5[digit_columns])\n",
    "train_method5[digit_columns] = scaler.transform(train_method5[digit_columns])\n",
    "\n",
    "train_method5 = pd.get_dummies(train_method5, columns = category_columns)\n"
   ]
  },
  {
   "cell_type": "code",
   "execution_count": 76,
   "id": "e69682b5",
   "metadata": {},
   "outputs": [],
   "source": [
    "# val_method5 = pd.get_dummies(val_method5, columns = category_columns)"
   ]
  },
  {
   "cell_type": "code",
   "execution_count": 77,
   "id": "5e82334d",
   "metadata": {},
   "outputs": [],
   "source": [
    "# a = list(train_method5.columns)\n",
    "# b = list(val_method5.columns)\n",
    "# c = []\n",
    "# c.extend(a)\n",
    "# c.extend(b)\n",
    "# print(c)\n",
    "# columns_pool = set(c)\n",
    "# val_method5_adjusted = pd.DataFrame(columns = columns_pool)\n",
    "# train_method5_adjusted = pd.DataFrame(columns = columns_pool)\n",
    "\n",
    "# for column in columns_pool:\n",
    "#     if column in val_method5.columns:\n",
    "#         val_method5_adjusted[column] = val_method5[column].values\n",
    "#     else:\n",
    "#         val_method5_adjusted[column] = [0 for i in range(len(val_method5))]\n",
    "        \n",
    "# for column in columns_pool:\n",
    "#     if column in train_method5.columns:\n",
    "#         train_method5_adjusted[column] = train_method5[column].values\n",
    "#     else:\n",
    "#         train_method5_adjusted[column] = [0 for i in range(len(train_method5))]\n",
    "        \n",
    "# val_method5_adjusted"
   ]
  },
  {
   "cell_type": "code",
   "execution_count": 86,
   "id": "e07fd8fd",
   "metadata": {},
   "outputs": [
    {
     "name": "stdout",
     "output_type": "stream",
     "text": [
      "RMSE :  2704.380569\n"
     ]
    }
   ],
   "source": [
    "# XGBoost\n",
    "from sklearn.metrics import mean_squared_error as MSE\n",
    "from xgboost import XGBRegressor\n",
    "\n",
    "model = XGBRegressor()\n",
    "\n",
    "cv = KFold(n_splits = 10, random_state = 5, shuffle = True)\n",
    "scores = cross_val_score(model, train_method5, y_train, scoring = 'neg_mean_squared_error',\n",
    "                         cv = cv, n_jobs = -1)\n",
    "\n",
    "print(\"RMSE : % f\" %(np.mean(np.sqrt(np.abs(scores)))))"
   ]
  },
  {
   "cell_type": "code",
   "execution_count": 133,
   "id": "3a85fc70",
   "metadata": {},
   "outputs": [
    {
     "name": "stdout",
     "output_type": "stream",
     "text": [
      "['total_fans', 'owner__name_Mu/s Craft毛線球牧場', 'owner__name_Avon', 'owner__name_王梓沅 X 創勝文教', 'owner__name_數位時代', 'owner__name_Sonny Chen', 'group__title_語言', 'owner__name_郭堯中 Nkwo', 'group__subGroup__title_英文', 'group__subGroup__title_資料科學']\n"
     ]
    }
   ],
   "source": [
    "# print(model.feature_importances_)\n",
    "model = XGBRegressor()\n",
    "model.fit(train_method5, y_train)\n",
    "new = [c for c in train_method5.columns]\n",
    "# print(new[1])\n",
    "score = model.feature_importances_\n",
    "# print(score[])\n",
    "indexes = np.argsort(score)\n",
    "indexes = indexes[::-1]\n",
    "\n",
    "value_index = indexes[:10]\n",
    "features_important = [new[i] for i in value_index]\n",
    "print(features_important)"
   ]
  },
  {
   "cell_type": "code",
   "execution_count": 134,
   "id": "7bee23aa",
   "metadata": {},
   "outputs": [
    {
     "name": "stdout",
     "output_type": "stream",
     "text": [
      "['total_fans', 'owner__name_Mu/s Craft毛線球牧場', 'owner__name_Avon', 'owner__name_王梓沅 X 創勝文教', 'owner__name_數位時代', 'owner__name_Sonny Chen', 'group__title_語言', 'owner__name_郭堯中 Nkwo', 'group__subGroup__title_英文', 'group__subGroup__title_資料科學', \"owner__name_窩廚房Joy'in Kitchen\", 'owner__name_鏡頭教練洪婉蒨', 'pictureNum', 'teacher_group__subGroup__title_similarity', 'preOrderedPrice', 'group__title_行銷', 'lengthOfDescription', 'teacher_title_similarity', 'owner__name_凱蒂Katie', 'teacher_recommendedBackground_similarity']\n"
     ]
    }
   ],
   "source": [
    "# print(model.feature_importances_)\n",
    "model = XGBRegressor()\n",
    "model.fit(train_method5, y_train)\n",
    "new = [c for c in train_method5.columns]\n",
    "# print(new[1])\n",
    "score = model.feature_importances_\n",
    "# print(score[])\n",
    "indexes = np.argsort(score)\n",
    "indexes = indexes[::-1]\n",
    "\n",
    "value_index = indexes[:20]\n",
    "features_important = [new[i] for i in value_index]\n",
    "print(features_important)"
   ]
  },
  {
   "cell_type": "code",
   "execution_count": 89,
   "id": "488be6cb",
   "metadata": {},
   "outputs": [
    {
     "name": "stdout",
     "output_type": "stream",
     "text": [
      "RMSE :  2521.617219\n"
     ]
    }
   ],
   "source": [
    "# RandomForrest\n",
    "from sklearn.metrics import mean_squared_error as MSE\n",
    "from sklearn.ensemble import RandomForestRegressor\n",
    "\n",
    "model = RandomForestRegressor()\n",
    "\n",
    "cv = KFold(n_splits = 10, random_state = 5, shuffle = True)\n",
    "scores = cross_val_score(model, train_method5, y_train, scoring = 'neg_mean_squared_error',\n",
    "                         cv = cv, n_jobs = -1)\n",
    "\n",
    "print(\"RMSE : % f\" %(np.mean(np.sqrt(np.abs(scores)))))"
   ]
  },
  {
   "cell_type": "code",
   "execution_count": 90,
   "id": "0e1d64d0",
   "metadata": {},
   "outputs": [
    {
     "name": "stdout",
     "output_type": "stream",
     "text": [
      "RMSE :  2538.755982\n"
     ]
    }
   ],
   "source": [
    "# SVM\n",
    "from sklearn.metrics import mean_squared_error as MSE\n",
    "from sklearn.svm import SVR\n",
    "\n",
    "model = SVR()\n",
    "\n",
    "cv = KFold(n_splits = 10, random_state = 5, shuffle = True)\n",
    "scores = cross_val_score(model, train_method5, y_train, scoring = 'neg_mean_squared_error',\n",
    "                         cv = cv, n_jobs = -1)\n",
    "\n",
    "print(\"RMSE : % f\" %(np.mean(np.sqrt(np.abs(scores)))))"
   ]
  },
  {
   "cell_type": "code",
   "execution_count": null,
   "id": "3196182c",
   "metadata": {},
   "outputs": [],
   "source": []
  },
  {
   "cell_type": "code",
   "execution_count": 135,
   "id": "a13be69e",
   "metadata": {},
   "outputs": [],
   "source": [
    "columns_10 = ['total_fans', 'owner__name_Mu/s Craft毛線球牧場', 'owner__name_Avon', 'owner__name_王梓沅 X 創勝文教', 'owner__name_數位時代', 'owner__name_Sonny Chen', 'group__title_語言', 'owner__name_郭堯中 Nkwo', 'group__subGroup__title_英文', 'group__subGroup__title_資料科學']"
   ]
  },
  {
   "cell_type": "code",
   "execution_count": 136,
   "id": "a477749f",
   "metadata": {},
   "outputs": [],
   "source": [
    "c = train_method5[columns_10]"
   ]
  },
  {
   "cell_type": "code",
   "execution_count": 137,
   "id": "375dc126",
   "metadata": {},
   "outputs": [
    {
     "name": "stdout",
     "output_type": "stream",
     "text": [
      "RMSE :  2598.874062\n"
     ]
    }
   ],
   "source": [
    "# XGBoost\n",
    "from sklearn.metrics import mean_squared_error as MSE\n",
    "from xgboost import XGBRegressor\n",
    "\n",
    "model = XGBRegressor()\n",
    "\n",
    "cv = KFold(n_splits = 10, random_state = 5, shuffle = True)\n",
    "scores = cross_val_score(model, c, y_train, scoring = 'neg_mean_squared_error',\n",
    "                         cv = cv, n_jobs = -1)\n",
    "\n",
    "print(\"RMSE : % f\" %(np.mean(np.sqrt(np.abs(scores)))))"
   ]
  },
  {
   "cell_type": "code",
   "execution_count": 138,
   "id": "fd5c81d9",
   "metadata": {},
   "outputs": [
    {
     "name": "stdout",
     "output_type": "stream",
     "text": [
      "RMSE :  2532.962776\n"
     ]
    }
   ],
   "source": [
    "# RandomForrest\n",
    "from sklearn.metrics import mean_squared_error as MSE\n",
    "from sklearn.ensemble import RandomForestRegressor\n",
    "\n",
    "model = RandomForestRegressor()\n",
    "\n",
    "cv = KFold(n_splits = 10, random_state = 5, shuffle = True)\n",
    "scores = cross_val_score(model, c, y_train, scoring = 'neg_mean_squared_error',\n",
    "                         cv = cv, n_jobs = -1)\n",
    "\n",
    "print(\"RMSE : % f\" %(np.mean(np.sqrt(np.abs(scores)))))"
   ]
  },
  {
   "cell_type": "code",
   "execution_count": 139,
   "id": "632f5470",
   "metadata": {},
   "outputs": [
    {
     "name": "stdout",
     "output_type": "stream",
     "text": [
      "RMSE :  2536.235786\n"
     ]
    }
   ],
   "source": [
    "# SVM\n",
    "from sklearn.metrics import mean_squared_error as MSE\n",
    "from sklearn.svm import SVR\n",
    "\n",
    "model = SVR()\n",
    "\n",
    "cv = KFold(n_splits = 10, random_state = 5, shuffle = True)\n",
    "scores = cross_val_score(model, c, y_train, scoring = 'neg_mean_squared_error',\n",
    "                         cv = cv, n_jobs = -1)\n",
    "\n",
    "print(\"RMSE : % f\" %(np.mean(np.sqrt(np.abs(scores)))))"
   ]
  },
  {
   "cell_type": "code",
   "execution_count": 140,
   "id": "4aff392d",
   "metadata": {},
   "outputs": [],
   "source": [
    "columns_20 = ['total_fans', 'owner__name_Mu/s Craft毛線球牧場', 'owner__name_Avon', 'owner__name_王梓沅 X 創勝文教', 'owner__name_數位時代', 'owner__name_Sonny Chen', 'group__title_語言', 'owner__name_郭堯中 Nkwo', 'group__subGroup__title_英文', 'group__subGroup__title_資料科學', \"owner__name_窩廚房Joy'in Kitchen\", 'owner__name_鏡頭教練洪婉蒨', 'pictureNum', 'teacher_group__subGroup__title_similarity', 'preOrderedPrice', 'group__title_行銷', 'lengthOfDescription', 'teacher_title_similarity', 'owner__name_凱蒂Katie', 'teacher_recommendedBackground_similarity']"
   ]
  },
  {
   "cell_type": "code",
   "execution_count": 141,
   "id": "323a49de",
   "metadata": {},
   "outputs": [],
   "source": [
    "c = train_method5[columns_20]"
   ]
  },
  {
   "cell_type": "code",
   "execution_count": 142,
   "id": "d22bef3b",
   "metadata": {},
   "outputs": [
    {
     "name": "stdout",
     "output_type": "stream",
     "text": [
      "RMSE :  2472.721445\n"
     ]
    }
   ],
   "source": [
    "# XGBoost\n",
    "from sklearn.metrics import mean_squared_error as MSE\n",
    "from xgboost import XGBRegressor\n",
    "\n",
    "model = XGBRegressor()\n",
    "\n",
    "cv = KFold(n_splits = 10, random_state = 5, shuffle = True)\n",
    "scores = cross_val_score(model, c, y_train, scoring = 'neg_mean_squared_error',\n",
    "                         cv = cv, n_jobs = -1)\n",
    "\n",
    "print(\"RMSE : % f\" %(np.mean(np.sqrt(np.abs(scores)))))"
   ]
  },
  {
   "cell_type": "code",
   "execution_count": 143,
   "id": "8d9d4293",
   "metadata": {},
   "outputs": [
    {
     "name": "stdout",
     "output_type": "stream",
     "text": [
      "RMSE :  2440.852141\n"
     ]
    }
   ],
   "source": [
    "# RandomForrest\n",
    "from sklearn.metrics import mean_squared_error as MSE\n",
    "from sklearn.ensemble import RandomForestRegressor\n",
    "\n",
    "model = RandomForestRegressor()\n",
    "\n",
    "cv = KFold(n_splits = 10, random_state = 5, shuffle = True)\n",
    "scores = cross_val_score(model, c, y_train, scoring = 'neg_mean_squared_error',\n",
    "                         cv = cv, n_jobs = -1)\n",
    "\n",
    "print(\"RMSE : % f\" %(np.mean(np.sqrt(np.abs(scores)))))"
   ]
  },
  {
   "cell_type": "code",
   "execution_count": 144,
   "id": "d6fb27f6",
   "metadata": {},
   "outputs": [
    {
     "name": "stdout",
     "output_type": "stream",
     "text": [
      "RMSE :  2537.041847\n"
     ]
    }
   ],
   "source": [
    "# SVM\n",
    "from sklearn.metrics import mean_squared_error as MSE\n",
    "from sklearn.svm import SVR\n",
    "\n",
    "model = SVR()\n",
    "\n",
    "cv = KFold(n_splits = 10, random_state = 5, shuffle = True)\n",
    "scores = cross_val_score(model, c, y_train, scoring = 'neg_mean_squared_error',\n",
    "                         cv = cv, n_jobs = -1)\n",
    "\n",
    "print(\"RMSE : % f\" %(np.mean(np.sqrt(np.abs(scores)))))"
   ]
  },
  {
   "cell_type": "code",
   "execution_count": null,
   "id": "7b543e01",
   "metadata": {},
   "outputs": [],
   "source": []
  },
  {
   "cell_type": "code",
   "execution_count": null,
   "id": "50697b49",
   "metadata": {},
   "outputs": [],
   "source": []
  },
  {
   "cell_type": "code",
   "execution_count": null,
   "id": "dfc57b2e",
   "metadata": {},
   "outputs": [],
   "source": []
  },
  {
   "cell_type": "code",
   "execution_count": null,
   "id": "22d848f8",
   "metadata": {},
   "outputs": [],
   "source": []
  },
  {
   "cell_type": "code",
   "execution_count": null,
   "id": "e836f545",
   "metadata": {},
   "outputs": [],
   "source": []
  },
  {
   "cell_type": "code",
   "execution_count": 145,
   "id": "94688935",
   "metadata": {},
   "outputs": [
    {
     "name": "stdout",
     "output_type": "stream",
     "text": [
      "['owner__name_阿滴 x 圖文不符上課囉', 'total_fans', 'owner__name_Mu/s Craft毛線球牧場', 'owner__name_Avon', 'owner__name_王梓沅 X 創勝文教', 'owner__name_數位時代', 'group__subGroup__title_手機程式開發', 'preOrderedPrice', 'owner__name_Sonny Chen', 'teacher_metaDescription_similarity']\n"
     ]
    }
   ],
   "source": [
    "# print(model.feature_importances_)\n",
    "model = RandomForestRegressor()\n",
    "model.fit(train_method5, y_train)\n",
    "new = [c for c in train_method5.columns]\n",
    "# print(new[1])\n",
    "score = model.feature_importances_\n",
    "# print(score[])\n",
    "indexes = np.argsort(score)\n",
    "indexes = indexes[::-1]\n",
    "\n",
    "value_index = indexes[:10]\n",
    "features_important = [new[i] for i in value_index]\n",
    "print(features_important)"
   ]
  },
  {
   "cell_type": "code",
   "execution_count": 146,
   "id": "83fe1e8f",
   "metadata": {},
   "outputs": [
    {
     "name": "stdout",
     "output_type": "stream",
     "text": [
      "['owner__name_阿滴 x 圖文不符上課囉', 'total_fans', 'owner__name_Mu/s Craft毛線球牧場', 'owner__name_王梓沅 X 創勝文教', 'owner__name_Avon', 'owner__name_數位時代', 'preOrderedPrice', 'owner__name_Sonny Chen', 'group__subGroup__title_手機程式開發', 'teacher_metaDescription_similarity', \"owner__name_窩廚房Joy'in Kitchen\", 'pictureNum', 'totalVideoLengthInSeconds', 'owner__name_鏡頭教練洪婉蒨', 'owner__name_凱蒂Katie', 'price', 'teacher_willLearn_similarity', 'lengthOfDescription', 'teacher_title_similarity', 'owner__name_韓國人金老師']\n"
     ]
    }
   ],
   "source": [
    "# print(model.feature_importances_)\n",
    "model = RandomForestRegressor()\n",
    "model.fit(train_method5, y_train)\n",
    "new = [c for c in train_method5.columns]\n",
    "# print(new[1])\n",
    "score = model.feature_importances_\n",
    "# print(score[])\n",
    "indexes = np.argsort(score)\n",
    "indexes = indexes[::-1]\n",
    "\n",
    "value_index = indexes[:20]\n",
    "features_important = [new[i] for i in value_index]\n",
    "print(features_important)"
   ]
  },
  {
   "cell_type": "code",
   "execution_count": 147,
   "id": "c7463395",
   "metadata": {},
   "outputs": [],
   "source": [
    "column_10 = ['owner__name_阿滴 x 圖文不符上課囉', 'total_fans', 'owner__name_Mu/s Craft毛線球牧場', 'owner__name_Avon', 'owner__name_王梓沅 X 創勝文教', 'group__subGroup__title_手機程式開發', 'owner__name_數位時代', 'preOrderedPrice', 'owner__name_Sonny Chen', \"owner__name_窩廚房Joy'in Kitchen\"]"
   ]
  },
  {
   "cell_type": "code",
   "execution_count": 148,
   "id": "c3c5c386",
   "metadata": {},
   "outputs": [],
   "source": [
    "c = train_method5[columns_10]"
   ]
  },
  {
   "cell_type": "code",
   "execution_count": 149,
   "id": "903f4db2",
   "metadata": {},
   "outputs": [
    {
     "name": "stdout",
     "output_type": "stream",
     "text": [
      "RMSE :  2598.874062\n"
     ]
    }
   ],
   "source": [
    "# XGBoost\n",
    "from sklearn.metrics import mean_squared_error as MSE\n",
    "from xgboost import XGBRegressor\n",
    "\n",
    "model = XGBRegressor()\n",
    "\n",
    "cv = KFold(n_splits = 10, random_state = 5, shuffle = True)\n",
    "scores = cross_val_score(model, c, y_train, scoring = 'neg_mean_squared_error',\n",
    "                         cv = cv, n_jobs = -1)\n",
    "\n",
    "print(\"RMSE : % f\" %(np.mean(np.sqrt(np.abs(scores)))))"
   ]
  },
  {
   "cell_type": "code",
   "execution_count": 150,
   "id": "518099e0",
   "metadata": {},
   "outputs": [
    {
     "name": "stdout",
     "output_type": "stream",
     "text": [
      "RMSE :  2517.562171\n"
     ]
    }
   ],
   "source": [
    "# RandomForrest\n",
    "from sklearn.metrics import mean_squared_error as MSE\n",
    "from sklearn.ensemble import RandomForestRegressor\n",
    "\n",
    "model = RandomForestRegressor()\n",
    "\n",
    "cv = KFold(n_splits = 10, random_state = 5, shuffle = True)\n",
    "scores = cross_val_score(model, c, y_train, scoring = 'neg_mean_squared_error',\n",
    "                         cv = cv, n_jobs = -1)\n",
    "\n",
    "print(\"RMSE : % f\" %(np.mean(np.sqrt(np.abs(scores)))))"
   ]
  },
  {
   "cell_type": "code",
   "execution_count": 152,
   "id": "28b805a9",
   "metadata": {},
   "outputs": [
    {
     "name": "stdout",
     "output_type": "stream",
     "text": [
      "RMSE :  2536.235786\n"
     ]
    }
   ],
   "source": [
    "# SVM\n",
    "from sklearn.metrics import mean_squared_error as MSE\n",
    "from sklearn.svm import SVR\n",
    "\n",
    "model = SVR()\n",
    "\n",
    "cv = KFold(n_splits = 10, random_state = 5, shuffle = True)\n",
    "scores = cross_val_score(model, c, y_train, scoring = 'neg_mean_squared_error',\n",
    "                         cv = cv, n_jobs = -1)\n",
    "\n",
    "print(\"RMSE : % f\" %(np.mean(np.sqrt(np.abs(scores)))))"
   ]
  },
  {
   "cell_type": "code",
   "execution_count": 153,
   "id": "edb6fb60",
   "metadata": {},
   "outputs": [],
   "source": [
    "column_20 = ['owner__name_阿滴 x 圖文不符上課囉', 'total_fans', 'owner__name_Mu/s Craft毛線球牧場', 'owner__name_Avon', 'owner__name_王梓沅 X 創勝文教', 'group__subGroup__title_手機程式開發', 'owner__name_數位時代', 'owner__name_Sonny Chen', 'preOrderedPrice', 'owner__name_莫彩曦 Hailey', \"owner__name_窩廚房Joy'in Kitchen\", 'price', 'owner__name_鏡頭教練洪婉蒨', 'teacher_metaDescription_similarity', 'teacher_title_similarity', 'pictureNum', 'totalVideoLengthInSeconds', 'courseCP', 'owner__name_郭堯中 Nkwo', 'owner__name_凱蒂Katie']"
   ]
  },
  {
   "cell_type": "code",
   "execution_count": 154,
   "id": "ac2c7666",
   "metadata": {},
   "outputs": [],
   "source": [
    "c = train_method5[columns_20]"
   ]
  },
  {
   "cell_type": "code",
   "execution_count": 155,
   "id": "d328511f",
   "metadata": {},
   "outputs": [
    {
     "name": "stdout",
     "output_type": "stream",
     "text": [
      "RMSE :  2472.721445\n"
     ]
    }
   ],
   "source": [
    "# XGBoost\n",
    "from sklearn.metrics import mean_squared_error as MSE\n",
    "from xgboost import XGBRegressor\n",
    "\n",
    "model = XGBRegressor()\n",
    "\n",
    "cv = KFold(n_splits = 10, random_state = 5, shuffle = True)\n",
    "scores = cross_val_score(model, c, y_train, scoring = 'neg_mean_squared_error',\n",
    "                         cv = cv, n_jobs = -1)\n",
    "\n",
    "print(\"RMSE : % f\" %(np.mean(np.sqrt(np.abs(scores)))))"
   ]
  },
  {
   "cell_type": "code",
   "execution_count": 156,
   "id": "ac53a939",
   "metadata": {},
   "outputs": [
    {
     "name": "stdout",
     "output_type": "stream",
     "text": [
      "RMSE :  2459.029466\n"
     ]
    }
   ],
   "source": [
    "# RandomForrest\n",
    "from sklearn.metrics import mean_squared_error as MSE\n",
    "from sklearn.ensemble import RandomForestRegressor\n",
    "\n",
    "model = RandomForestRegressor()\n",
    "\n",
    "cv = KFold(n_splits = 10, random_state = 5, shuffle = True)\n",
    "scores = cross_val_score(model, c, y_train, scoring = 'neg_mean_squared_error',\n",
    "                         cv = cv, n_jobs = -1)\n",
    "\n",
    "print(\"RMSE : % f\" %(np.mean(np.sqrt(np.abs(scores)))))"
   ]
  },
  {
   "cell_type": "code",
   "execution_count": 132,
   "id": "d72dfae1",
   "metadata": {},
   "outputs": [
    {
     "name": "stdout",
     "output_type": "stream",
     "text": [
      "RMSE :  2537.041847\n"
     ]
    }
   ],
   "source": [
    "# SVM\n",
    "from sklearn.metrics import mean_squared_error as MSE\n",
    "from sklearn.svm import SVR\n",
    "\n",
    "model = SVR()\n",
    "\n",
    "cv = KFold(n_splits = 10, random_state = 5, shuffle = True)\n",
    "scores = cross_val_score(model, c, y_train, scoring = 'neg_mean_squared_error',\n",
    "                         cv = cv, n_jobs = -1)\n",
    "\n",
    "print(\"RMSE : % f\" %(np.mean(np.sqrt(np.abs(scores)))))"
   ]
  },
  {
   "cell_type": "code",
   "execution_count": null,
   "id": "3482576f",
   "metadata": {},
   "outputs": [],
   "source": []
  }
 ],
 "metadata": {
  "kernelspec": {
   "display_name": "Python 3 (ipykernel)",
   "language": "python",
   "name": "python3"
  },
  "language_info": {
   "codemirror_mode": {
    "name": "ipython",
    "version": 3
   },
   "file_extension": ".py",
   "mimetype": "text/x-python",
   "name": "python",
   "nbconvert_exporter": "python",
   "pygments_lexer": "ipython3",
   "version": "3.9.7"
  }
 },
 "nbformat": 4,
 "nbformat_minor": 5
}
