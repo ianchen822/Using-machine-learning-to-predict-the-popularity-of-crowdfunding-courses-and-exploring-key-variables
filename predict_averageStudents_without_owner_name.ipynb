{
 "cells": [
  {
   "cell_type": "code",
   "execution_count": 1,
   "id": "8f566bb5",
   "metadata": {},
   "outputs": [],
   "source": [
    "import pandas as pd\n",
    "import numpy as np"
   ]
  },
  {
   "cell_type": "code",
   "execution_count": 2,
   "id": "e5fae04d",
   "metadata": {},
   "outputs": [],
   "source": [
    "train = pd.read_csv(\"train_all_data_averageStudents_new.csv\")"
   ]
  },
  {
   "cell_type": "code",
   "execution_count": 3,
   "id": "c295ccc8",
   "metadata": {},
   "outputs": [],
   "source": [
    "y_train = train.iloc[:, -1]"
   ]
  },
  {
   "cell_type": "markdown",
   "id": "0a5afa81",
   "metadata": {},
   "source": [
    "# 第三種挑法"
   ]
  },
  {
   "cell_type": "code",
   "execution_count": 4,
   "id": "23c89d1f",
   "metadata": {},
   "outputs": [],
   "source": [
    "columns = ['setUpCoursesAgain', 'courseNumHistry', 'isBrand', 'averageRatingHistry', 'total_fans']"
   ]
  },
  {
   "cell_type": "code",
   "execution_count": 5,
   "id": "6b09f5b4",
   "metadata": {},
   "outputs": [],
   "source": [
    "train_method3 = train[columns]"
   ]
  },
  {
   "cell_type": "code",
   "execution_count": 6,
   "id": "91780985",
   "metadata": {},
   "outputs": [
    {
     "name": "stderr",
     "output_type": "stream",
     "text": [
      "C:\\Users\\ChenPoYen\\anaconda3\\lib\\site-packages\\pandas\\core\\frame.py:3678: SettingWithCopyWarning: \n",
      "A value is trying to be set on a copy of a slice from a DataFrame.\n",
      "Try using .loc[row_indexer,col_indexer] = value instead\n",
      "\n",
      "See the caveats in the documentation: https://pandas.pydata.org/pandas-docs/stable/user_guide/indexing.html#returning-a-view-versus-a-copy\n",
      "  self[col] = igetitem(value, i)\n"
     ]
    },
    {
     "data": {
      "text/html": [
       "<div>\n",
       "<style scoped>\n",
       "    .dataframe tbody tr th:only-of-type {\n",
       "        vertical-align: middle;\n",
       "    }\n",
       "\n",
       "    .dataframe tbody tr th {\n",
       "        vertical-align: top;\n",
       "    }\n",
       "\n",
       "    .dataframe thead th {\n",
       "        text-align: right;\n",
       "    }\n",
       "</style>\n",
       "<table border=\"1\" class=\"dataframe\">\n",
       "  <thead>\n",
       "    <tr style=\"text-align: right;\">\n",
       "      <th></th>\n",
       "      <th>setUpCoursesAgain</th>\n",
       "      <th>courseNumHistry</th>\n",
       "      <th>isBrand</th>\n",
       "      <th>averageRatingHistry</th>\n",
       "      <th>total_fans</th>\n",
       "    </tr>\n",
       "  </thead>\n",
       "  <tbody>\n",
       "    <tr>\n",
       "      <th>0</th>\n",
       "      <td>1.0</td>\n",
       "      <td>0.2</td>\n",
       "      <td>0.0</td>\n",
       "      <td>0.984</td>\n",
       "      <td>0.081970</td>\n",
       "    </tr>\n",
       "    <tr>\n",
       "      <th>1</th>\n",
       "      <td>1.0</td>\n",
       "      <td>0.2</td>\n",
       "      <td>0.0</td>\n",
       "      <td>0.986</td>\n",
       "      <td>0.060833</td>\n",
       "    </tr>\n",
       "    <tr>\n",
       "      <th>2</th>\n",
       "      <td>0.0</td>\n",
       "      <td>0.0</td>\n",
       "      <td>0.0</td>\n",
       "      <td>0.000</td>\n",
       "      <td>0.063815</td>\n",
       "    </tr>\n",
       "    <tr>\n",
       "      <th>3</th>\n",
       "      <td>1.0</td>\n",
       "      <td>0.2</td>\n",
       "      <td>0.0</td>\n",
       "      <td>0.994</td>\n",
       "      <td>0.002444</td>\n",
       "    </tr>\n",
       "    <tr>\n",
       "      <th>4</th>\n",
       "      <td>1.0</td>\n",
       "      <td>0.6</td>\n",
       "      <td>0.0</td>\n",
       "      <td>0.662</td>\n",
       "      <td>0.060833</td>\n",
       "    </tr>\n",
       "    <tr>\n",
       "      <th>...</th>\n",
       "      <td>...</td>\n",
       "      <td>...</td>\n",
       "      <td>...</td>\n",
       "      <td>...</td>\n",
       "      <td>...</td>\n",
       "    </tr>\n",
       "    <tr>\n",
       "      <th>375</th>\n",
       "      <td>1.0</td>\n",
       "      <td>0.4</td>\n",
       "      <td>0.0</td>\n",
       "      <td>0.970</td>\n",
       "      <td>0.025989</td>\n",
       "    </tr>\n",
       "    <tr>\n",
       "      <th>376</th>\n",
       "      <td>0.0</td>\n",
       "      <td>0.0</td>\n",
       "      <td>0.0</td>\n",
       "      <td>0.000</td>\n",
       "      <td>0.004244</td>\n",
       "    </tr>\n",
       "    <tr>\n",
       "      <th>377</th>\n",
       "      <td>1.0</td>\n",
       "      <td>0.2</td>\n",
       "      <td>0.0</td>\n",
       "      <td>0.776</td>\n",
       "      <td>0.013941</td>\n",
       "    </tr>\n",
       "    <tr>\n",
       "      <th>378</th>\n",
       "      <td>0.0</td>\n",
       "      <td>0.0</td>\n",
       "      <td>0.0</td>\n",
       "      <td>0.000</td>\n",
       "      <td>0.002732</td>\n",
       "    </tr>\n",
       "    <tr>\n",
       "      <th>379</th>\n",
       "      <td>0.0</td>\n",
       "      <td>0.0</td>\n",
       "      <td>1.0</td>\n",
       "      <td>0.000</td>\n",
       "      <td>0.001999</td>\n",
       "    </tr>\n",
       "  </tbody>\n",
       "</table>\n",
       "<p>380 rows × 5 columns</p>\n",
       "</div>"
      ],
      "text/plain": [
       "     setUpCoursesAgain  courseNumHistry  isBrand  averageRatingHistry  \\\n",
       "0                  1.0              0.2      0.0                0.984   \n",
       "1                  1.0              0.2      0.0                0.986   \n",
       "2                  0.0              0.0      0.0                0.000   \n",
       "3                  1.0              0.2      0.0                0.994   \n",
       "4                  1.0              0.6      0.0                0.662   \n",
       "..                 ...              ...      ...                  ...   \n",
       "375                1.0              0.4      0.0                0.970   \n",
       "376                0.0              0.0      0.0                0.000   \n",
       "377                1.0              0.2      0.0                0.776   \n",
       "378                0.0              0.0      0.0                0.000   \n",
       "379                0.0              0.0      1.0                0.000   \n",
       "\n",
       "     total_fans  \n",
       "0      0.081970  \n",
       "1      0.060833  \n",
       "2      0.063815  \n",
       "3      0.002444  \n",
       "4      0.060833  \n",
       "..          ...  \n",
       "375    0.025989  \n",
       "376    0.004244  \n",
       "377    0.013941  \n",
       "378    0.002732  \n",
       "379    0.001999  \n",
       "\n",
       "[380 rows x 5 columns]"
      ]
     },
     "execution_count": 6,
     "metadata": {},
     "output_type": "execute_result"
    }
   ],
   "source": [
    "# minmax、dummy\n",
    "\n",
    "from sklearn.preprocessing import MinMaxScaler\n",
    "\n",
    "digit_columns = ['setUpCoursesAgain', 'courseNumHistry', 'isBrand', 'averageRatingHistry', 'total_fans']\n",
    "category_columns = [c for c in columns if c not in digit_columns]\n",
    "\n",
    "scaler = MinMaxScaler()\n",
    "scaler = scaler.fit(train_method3[digit_columns])\n",
    "train_method3[digit_columns] = scaler.transform(train_method3[digit_columns])\n",
    "\n",
    "train_method3 = pd.get_dummies(train_method3, columns = category_columns)\n",
    "train_method3"
   ]
  },
  {
   "cell_type": "code",
   "execution_count": 8,
   "id": "d42e6827",
   "metadata": {},
   "outputs": [
    {
     "name": "stdout",
     "output_type": "stream",
     "text": [
      "RMSE :  3554.281333\n"
     ]
    }
   ],
   "source": [
    "# XGBoost\n",
    "from sklearn.metrics import mean_squared_error as MSE\n",
    "from xgboost import XGBRegressor\n",
    "from sklearn.model_selection import KFold\n",
    "from sklearn.model_selection import cross_val_score\n",
    "\n",
    "model = XGBRegressor()\n",
    "\n",
    "cv = KFold(n_splits = 10, random_state = 5, shuffle = True)\n",
    "scores = cross_val_score(model, train_method3, y_train, scoring = 'neg_mean_squared_error',\n",
    "                         cv = cv, n_jobs = -1)\n",
    "\n",
    "print(\"RMSE : % f\" %(np.mean(np.sqrt(np.abs(scores)))))"
   ]
  },
  {
   "cell_type": "code",
   "execution_count": 9,
   "id": "92857e1c",
   "metadata": {},
   "outputs": [
    {
     "name": "stdout",
     "output_type": "stream",
     "text": [
      "RMSE :  3161.459493\n"
     ]
    }
   ],
   "source": [
    "# RandomForrest\n",
    "from sklearn.metrics import mean_squared_error as MSE\n",
    "from sklearn.ensemble import RandomForestRegressor\n",
    "\n",
    "model = RandomForestRegressor()\n",
    "\n",
    "cv = KFold(n_splits = 10, random_state = 5, shuffle = True)\n",
    "scores = cross_val_score(model, train_method3, y_train, scoring = 'neg_mean_squared_error',\n",
    "                         cv = cv, n_jobs = -1)\n",
    "\n",
    "print(\"RMSE : % f\" %(np.mean(np.sqrt(np.abs(scores)))))"
   ]
  },
  {
   "cell_type": "code",
   "execution_count": 42,
   "id": "b0bc2157",
   "metadata": {},
   "outputs": [
    {
     "name": "stdout",
     "output_type": "stream",
     "text": [
      "RMSE :  2539.256718\n",
      "Standard deviation :  3927.532094\n"
     ]
    }
   ],
   "source": [
    "# SVM\n",
    "from sklearn.metrics import mean_squared_error as MSE\n",
    "from sklearn.svm import SVR\n",
    "\n",
    "model = SVR()\n",
    "\n",
    "cv = KFold(n_splits = 10, random_state = 5, shuffle = True)\n",
    "scores = cross_val_score(model, train_method3, y_train, scoring = 'neg_mean_squared_error',\n",
    "                         cv = cv, n_jobs = -1)\n",
    "\n",
    "print(\"RMSE : % f\" %(np.mean(np.sqrt(np.abs(scores)))))\n",
    "print(\"Standard deviation : % f\" %(np.std(np.sqrt(np.abs(scores)))))"
   ]
  },
  {
   "cell_type": "markdown",
   "id": "bb0790f8",
   "metadata": {},
   "source": [
    "# 第五種挑法"
   ]
  },
  {
   "cell_type": "code",
   "execution_count": 11,
   "id": "33f5cd05",
   "metadata": {},
   "outputs": [],
   "source": [
    "columns = ['preOrderedPrice', 'price', 'courseCP',\n",
    "\n",
    "'group__title', 'group__subGroup__title', 'subtitleCourseNum',\n",
    "'pictureNum', 'lengthOfDescription', 'totalVideoLengthInSeconds',\n",
    "\n",
    "'setUpCoursesAgain', 'courseNumHistry', 'isBrand', 'averageRatingHistry', 'total_fans',\n",
    "\n",
    "'teacher_metaDescription_similarity', 'teacher_group__subGroup__title_similarity',\n",
    "'teacher_targetGroup_similarity',\n",
    "'teacher_title_similarity',\n",
    "'teacher_group__title_similarity','teacher_recommendedBackground_similarity', 'teacher_willLearn_similarity',\n",
    "'teacher_requiredTools_similarity']"
   ]
  },
  {
   "cell_type": "code",
   "execution_count": 12,
   "id": "543def77",
   "metadata": {},
   "outputs": [],
   "source": [
    "train_method5 = train[columns]"
   ]
  },
  {
   "cell_type": "code",
   "execution_count": 13,
   "id": "f77676ac",
   "metadata": {},
   "outputs": [
    {
     "name": "stderr",
     "output_type": "stream",
     "text": [
      "C:\\Users\\ChenPoYen\\anaconda3\\lib\\site-packages\\pandas\\core\\frame.py:3678: SettingWithCopyWarning: \n",
      "A value is trying to be set on a copy of a slice from a DataFrame.\n",
      "Try using .loc[row_indexer,col_indexer] = value instead\n",
      "\n",
      "See the caveats in the documentation: https://pandas.pydata.org/pandas-docs/stable/user_guide/indexing.html#returning-a-view-versus-a-copy\n",
      "  self[col] = igetitem(value, i)\n"
     ]
    }
   ],
   "source": [
    "# minmax、dummy\n",
    "\n",
    "from sklearn.preprocessing import MinMaxScaler\n",
    "\n",
    "digit_columns = ['setUpCoursesAgain', 'courseNumHistry', 'isBrand', 'averageRatingHistry', 'total_fans','subtitleCourseNum',\n",
    "'pictureNum', 'lengthOfDescription', 'totalVideoLengthInSeconds','preOrderedPrice', 'price', 'courseCP','teacher_metaDescription_similarity', 'teacher_group__subGroup__title_similarity',\n",
    "'teacher_targetGroup_similarity',\n",
    "'teacher_title_similarity',\n",
    "'teacher_group__title_similarity','teacher_recommendedBackground_similarity', 'teacher_willLearn_similarity',\n",
    "'teacher_requiredTools_similarity']\n",
    "\n",
    "category_columns = [c for c in columns if c not in digit_columns]\n",
    "\n",
    "scaler = MinMaxScaler()\n",
    "scaler = scaler.fit(train_method5[digit_columns])\n",
    "train_method5[digit_columns] = scaler.transform(train_method5[digit_columns])\n",
    "\n",
    "train_method5 = pd.get_dummies(train_method5, columns = category_columns)\n"
   ]
  },
  {
   "cell_type": "code",
   "execution_count": 14,
   "id": "e07fd8fd",
   "metadata": {},
   "outputs": [
    {
     "name": "stdout",
     "output_type": "stream",
     "text": [
      "RMSE :  2703.355795\n"
     ]
    }
   ],
   "source": [
    "# XGBoost\n",
    "from sklearn.metrics import mean_squared_error as MSE\n",
    "from xgboost import XGBRegressor\n",
    "\n",
    "model = XGBRegressor()\n",
    "\n",
    "cv = KFold(n_splits = 10, random_state = 5, shuffle = True)\n",
    "scores = cross_val_score(model, train_method5, y_train, scoring = 'neg_mean_squared_error',\n",
    "                         cv = cv, n_jobs = -1)\n",
    "\n",
    "print(\"RMSE : % f\" %(np.mean(np.sqrt(np.abs(scores)))))"
   ]
  },
  {
   "cell_type": "code",
   "execution_count": 15,
   "id": "3a85fc70",
   "metadata": {},
   "outputs": [
    {
     "name": "stdout",
     "output_type": "stream",
     "text": [
      "['total_fans', 'group__subGroup__title_手作小物', 'group__subGroup__title_手機程式開發', 'price', 'group__subGroup__title_英文', 'group__subGroup__title_數位行銷', 'courseCP', 'preOrderedPrice', 'teacher_group__subGroup__title_similarity', 'pictureNum']\n"
     ]
    }
   ],
   "source": [
    "# print(model.feature_importances_)\n",
    "model = XGBRegressor()\n",
    "model.fit(train_method5, y_train)\n",
    "new = [c for c in train_method5.columns]\n",
    "# print(new[1])\n",
    "score = model.feature_importances_\n",
    "# print(score[])\n",
    "indexes = np.argsort(score)\n",
    "indexes = indexes[::-1]\n",
    "\n",
    "value_index = indexes[:10]\n",
    "features_important = [new[i] for i in value_index]\n",
    "print(features_important)"
   ]
  },
  {
   "cell_type": "code",
   "execution_count": 16,
   "id": "7bee23aa",
   "metadata": {},
   "outputs": [
    {
     "name": "stdout",
     "output_type": "stream",
     "text": [
      "['total_fans', 'group__subGroup__title_手作小物', 'group__subGroup__title_手機程式開發', 'price', 'group__subGroup__title_英文', 'group__subGroup__title_數位行銷', 'courseCP', 'preOrderedPrice', 'teacher_group__subGroup__title_similarity', 'pictureNum', 'group__subGroup__title_資料科學', 'teacher_recommendedBackground_similarity', 'lengthOfDescription', 'averageRatingHistry', 'group__subGroup__title_烹飪料理與甜點', 'teacher_title_similarity', 'group__subGroup__title_程式入門', 'teacher_group__title_similarity', 'group__subGroup__title_動態攝影', 'group__subGroup__title_商業攝影']\n"
     ]
    }
   ],
   "source": [
    "# print(model.feature_importances_)\n",
    "model = XGBRegressor()\n",
    "model.fit(train_method5, y_train)\n",
    "new = [c for c in train_method5.columns]\n",
    "# print(new[1])\n",
    "score = model.feature_importances_\n",
    "# print(score[])\n",
    "indexes = np.argsort(score)\n",
    "indexes = indexes[::-1]\n",
    "\n",
    "value_index = indexes[:20]\n",
    "features_important = [new[i] for i in value_index]\n",
    "print(features_important)"
   ]
  },
  {
   "cell_type": "code",
   "execution_count": 17,
   "id": "488be6cb",
   "metadata": {},
   "outputs": [
    {
     "name": "stdout",
     "output_type": "stream",
     "text": [
      "RMSE :  2749.237738\n"
     ]
    }
   ],
   "source": [
    "# RandomForrest\n",
    "from sklearn.metrics import mean_squared_error as MSE\n",
    "from sklearn.ensemble import RandomForestRegressor\n",
    "\n",
    "model = RandomForestRegressor()\n",
    "\n",
    "cv = KFold(n_splits = 10, random_state = 5, shuffle = True)\n",
    "scores = cross_val_score(model, train_method5, y_train, scoring = 'neg_mean_squared_error',\n",
    "                         cv = cv, n_jobs = -1)\n",
    "\n",
    "print(\"RMSE : % f\" %(np.mean(np.sqrt(np.abs(scores)))))"
   ]
  },
  {
   "cell_type": "code",
   "execution_count": 18,
   "id": "0e1d64d0",
   "metadata": {},
   "outputs": [
    {
     "name": "stdout",
     "output_type": "stream",
     "text": [
      "RMSE :  2538.752467\n"
     ]
    }
   ],
   "source": [
    "# SVM\n",
    "from sklearn.metrics import mean_squared_error as MSE\n",
    "from sklearn.svm import SVR\n",
    "\n",
    "model = SVR()\n",
    "\n",
    "cv = KFold(n_splits = 10, random_state = 5, shuffle = True)\n",
    "scores = cross_val_score(model, train_method5, y_train, scoring = 'neg_mean_squared_error',\n",
    "                         cv = cv, n_jobs = -1)\n",
    "\n",
    "print(\"RMSE : % f\" %(np.mean(np.sqrt(np.abs(scores)))))"
   ]
  },
  {
   "cell_type": "code",
   "execution_count": null,
   "id": "3196182c",
   "metadata": {},
   "outputs": [],
   "source": []
  },
  {
   "cell_type": "code",
   "execution_count": 19,
   "id": "a13be69e",
   "metadata": {},
   "outputs": [],
   "source": [
    "columns_10 = ['total_fans', 'group__subGroup__title_手作小物', 'group__subGroup__title_手機程式開發', 'price', 'group__subGroup__title_英文', 'group__subGroup__title_數位行銷', 'courseCP', 'preOrderedPrice', 'teacher_group__subGroup__title_similarity', 'pictureNum']"
   ]
  },
  {
   "cell_type": "code",
   "execution_count": 20,
   "id": "a477749f",
   "metadata": {},
   "outputs": [],
   "source": [
    "c = train_method5[columns_10]"
   ]
  },
  {
   "cell_type": "code",
   "execution_count": 21,
   "id": "375dc126",
   "metadata": {},
   "outputs": [
    {
     "name": "stdout",
     "output_type": "stream",
     "text": [
      "RMSE :  2932.193189\n"
     ]
    }
   ],
   "source": [
    "# XGBoost\n",
    "from sklearn.metrics import mean_squared_error as MSE\n",
    "from xgboost import XGBRegressor\n",
    "\n",
    "model = XGBRegressor()\n",
    "\n",
    "cv = KFold(n_splits = 10, random_state = 5, shuffle = True)\n",
    "scores = cross_val_score(model, c, y_train, scoring = 'neg_mean_squared_error',\n",
    "                         cv = cv, n_jobs = -1)\n",
    "\n",
    "print(\"RMSE : % f\" %(np.mean(np.sqrt(np.abs(scores)))))"
   ]
  },
  {
   "cell_type": "code",
   "execution_count": 22,
   "id": "fd5c81d9",
   "metadata": {},
   "outputs": [
    {
     "name": "stdout",
     "output_type": "stream",
     "text": [
      "RMSE :  2657.502515\n"
     ]
    }
   ],
   "source": [
    "# RandomForrest\n",
    "from sklearn.metrics import mean_squared_error as MSE\n",
    "from sklearn.ensemble import RandomForestRegressor\n",
    "\n",
    "model = RandomForestRegressor()\n",
    "\n",
    "cv = KFold(n_splits = 10, random_state = 5, shuffle = True)\n",
    "scores = cross_val_score(model, c, y_train, scoring = 'neg_mean_squared_error',\n",
    "                         cv = cv, n_jobs = -1)\n",
    "\n",
    "print(\"RMSE : % f\" %(np.mean(np.sqrt(np.abs(scores)))))"
   ]
  },
  {
   "cell_type": "code",
   "execution_count": 23,
   "id": "632f5470",
   "metadata": {},
   "outputs": [
    {
     "name": "stdout",
     "output_type": "stream",
     "text": [
      "RMSE :  2538.263220\n"
     ]
    }
   ],
   "source": [
    "# SVM\n",
    "from sklearn.metrics import mean_squared_error as MSE\n",
    "from sklearn.svm import SVR\n",
    "\n",
    "model = SVR()\n",
    "\n",
    "cv = KFold(n_splits = 10, random_state = 5, shuffle = True)\n",
    "scores = cross_val_score(model, c, y_train, scoring = 'neg_mean_squared_error',\n",
    "                         cv = cv, n_jobs = -1)\n",
    "\n",
    "print(\"RMSE : % f\" %(np.mean(np.sqrt(np.abs(scores)))))"
   ]
  },
  {
   "cell_type": "code",
   "execution_count": 24,
   "id": "4aff392d",
   "metadata": {},
   "outputs": [],
   "source": [
    "columns_20 = ['total_fans', 'group__subGroup__title_手作小物', 'group__subGroup__title_手機程式開發', 'price', 'group__subGroup__title_英文', 'group__subGroup__title_數位行銷', 'courseCP', 'preOrderedPrice', 'teacher_group__subGroup__title_similarity', 'pictureNum', 'group__subGroup__title_資料科學', 'teacher_recommendedBackground_similarity', 'lengthOfDescription', 'averageRatingHistry', 'group__subGroup__title_烹飪料理與甜點', 'teacher_title_similarity', 'group__subGroup__title_程式入門', 'teacher_group__title_similarity', 'group__subGroup__title_動態攝影', 'group__subGroup__title_商業攝影']"
   ]
  },
  {
   "cell_type": "code",
   "execution_count": 25,
   "id": "323a49de",
   "metadata": {},
   "outputs": [],
   "source": [
    "c = train_method5[columns_20]"
   ]
  },
  {
   "cell_type": "code",
   "execution_count": 26,
   "id": "d22bef3b",
   "metadata": {},
   "outputs": [
    {
     "name": "stdout",
     "output_type": "stream",
     "text": [
      "RMSE :  2960.436781\n"
     ]
    }
   ],
   "source": [
    "# XGBoost\n",
    "from sklearn.metrics import mean_squared_error as MSE\n",
    "from xgboost import XGBRegressor\n",
    "\n",
    "model = XGBRegressor()\n",
    "\n",
    "cv = KFold(n_splits = 10, random_state = 5, shuffle = True)\n",
    "scores = cross_val_score(model, c, y_train, scoring = 'neg_mean_squared_error',\n",
    "                         cv = cv, n_jobs = -1)\n",
    "\n",
    "print(\"RMSE : % f\" %(np.mean(np.sqrt(np.abs(scores)))))"
   ]
  },
  {
   "cell_type": "code",
   "execution_count": 27,
   "id": "8d9d4293",
   "metadata": {},
   "outputs": [
    {
     "name": "stdout",
     "output_type": "stream",
     "text": [
      "RMSE :  2754.660815\n"
     ]
    }
   ],
   "source": [
    "# RandomForrest\n",
    "from sklearn.metrics import mean_squared_error as MSE\n",
    "from sklearn.ensemble import RandomForestRegressor\n",
    "\n",
    "model = RandomForestRegressor()\n",
    "\n",
    "cv = KFold(n_splits = 10, random_state = 5, shuffle = True)\n",
    "scores = cross_val_score(model, c, y_train, scoring = 'neg_mean_squared_error',\n",
    "                         cv = cv, n_jobs = -1)\n",
    "\n",
    "print(\"RMSE : % f\" %(np.mean(np.sqrt(np.abs(scores)))))"
   ]
  },
  {
   "cell_type": "code",
   "execution_count": 28,
   "id": "d6fb27f6",
   "metadata": {},
   "outputs": [
    {
     "name": "stdout",
     "output_type": "stream",
     "text": [
      "RMSE :  2538.643956\n"
     ]
    }
   ],
   "source": [
    "# SVM\n",
    "from sklearn.metrics import mean_squared_error as MSE\n",
    "from sklearn.svm import SVR\n",
    "\n",
    "model = SVR()\n",
    "\n",
    "cv = KFold(n_splits = 10, random_state = 5, shuffle = True)\n",
    "scores = cross_val_score(model, c, y_train, scoring = 'neg_mean_squared_error',\n",
    "                         cv = cv, n_jobs = -1)\n",
    "\n",
    "print(\"RMSE : % f\" %(np.mean(np.sqrt(np.abs(scores)))))"
   ]
  },
  {
   "cell_type": "code",
   "execution_count": null,
   "id": "4b055581",
   "metadata": {},
   "outputs": [],
   "source": []
  },
  {
   "cell_type": "code",
   "execution_count": null,
   "id": "45e5c937",
   "metadata": {},
   "outputs": [],
   "source": []
  },
  {
   "cell_type": "code",
   "execution_count": null,
   "id": "342bb41e",
   "metadata": {},
   "outputs": [],
   "source": []
  },
  {
   "cell_type": "code",
   "execution_count": null,
   "id": "7b3e65c3",
   "metadata": {},
   "outputs": [],
   "source": []
  },
  {
   "cell_type": "code",
   "execution_count": null,
   "id": "c6f78fd4",
   "metadata": {},
   "outputs": [],
   "source": []
  },
  {
   "cell_type": "code",
   "execution_count": 29,
   "id": "94688935",
   "metadata": {},
   "outputs": [
    {
     "name": "stdout",
     "output_type": "stream",
     "text": [
      "['total_fans', 'courseCP', 'group__subGroup__title_手機程式開發', 'group__subGroup__title_手作小物', 'preOrderedPrice', 'lengthOfDescription', 'group__subGroup__title_英文', 'totalVideoLengthInSeconds', 'price', 'teacher_willLearn_similarity']\n"
     ]
    }
   ],
   "source": [
    "# print(model.feature_importances_)\n",
    "model = RandomForestRegressor()\n",
    "model.fit(train_method5, y_train)\n",
    "new = [c for c in train_method5.columns]\n",
    "# print(new[1])\n",
    "score = model.feature_importances_\n",
    "# print(score[])\n",
    "indexes = np.argsort(score)\n",
    "indexes = indexes[::-1]\n",
    "\n",
    "value_index = indexes[:10]\n",
    "features_important = [new[i] for i in value_index]\n",
    "print(features_important)"
   ]
  },
  {
   "cell_type": "code",
   "execution_count": 30,
   "id": "83fe1e8f",
   "metadata": {},
   "outputs": [
    {
     "name": "stdout",
     "output_type": "stream",
     "text": [
      "['total_fans', 'group__subGroup__title_手機程式開發', 'courseCP', 'group__subGroup__title_手作小物', 'price', 'lengthOfDescription', 'group__subGroup__title_英文', 'teacher_targetGroup_similarity', 'preOrderedPrice', 'teacher_willLearn_similarity', 'totalVideoLengthInSeconds', 'teacher_metaDescription_similarity', 'teacher_group__title_similarity', 'teacher_title_similarity', 'teacher_recommendedBackground_similarity', 'teacher_group__subGroup__title_similarity', 'teacher_requiredTools_similarity', 'group__subGroup__title_數位行銷', 'averageRatingHistry', 'subtitleCourseNum']\n"
     ]
    }
   ],
   "source": [
    "# print(model.feature_importances_)\n",
    "model = RandomForestRegressor()\n",
    "model.fit(train_method5, y_train)\n",
    "new = [c for c in train_method5.columns]\n",
    "# print(new[1])\n",
    "score = model.feature_importances_\n",
    "# print(score[])\n",
    "indexes = np.argsort(score)\n",
    "indexes = indexes[::-1]\n",
    "\n",
    "value_index = indexes[:20]\n",
    "features_important = [new[i] for i in value_index]\n",
    "print(features_important)"
   ]
  },
  {
   "cell_type": "code",
   "execution_count": 31,
   "id": "c7463395",
   "metadata": {},
   "outputs": [],
   "source": [
    "column_10 = ['total_fans', 'courseCP', 'group__subGroup__title_手機程式開發', 'group__subGroup__title_手作小物', 'preOrderedPrice', 'lengthOfDescription', 'group__subGroup__title_英文', 'totalVideoLengthInSeconds', 'price', 'teacher_willLearn_similarity']"
   ]
  },
  {
   "cell_type": "code",
   "execution_count": 32,
   "id": "c3c5c386",
   "metadata": {},
   "outputs": [],
   "source": [
    "c = train_method5[columns_10]"
   ]
  },
  {
   "cell_type": "code",
   "execution_count": 33,
   "id": "903f4db2",
   "metadata": {},
   "outputs": [
    {
     "name": "stdout",
     "output_type": "stream",
     "text": [
      "RMSE :  2932.193189\n"
     ]
    }
   ],
   "source": [
    "# XGBoost\n",
    "from sklearn.metrics import mean_squared_error as MSE\n",
    "from xgboost import XGBRegressor\n",
    "\n",
    "model = XGBRegressor()\n",
    "\n",
    "cv = KFold(n_splits = 10, random_state = 5, shuffle = True)\n",
    "scores = cross_val_score(model, c, y_train, scoring = 'neg_mean_squared_error',\n",
    "                         cv = cv, n_jobs = -1)\n",
    "\n",
    "print(\"RMSE : % f\" %(np.mean(np.sqrt(np.abs(scores)))))"
   ]
  },
  {
   "cell_type": "code",
   "execution_count": 34,
   "id": "518099e0",
   "metadata": {},
   "outputs": [
    {
     "name": "stdout",
     "output_type": "stream",
     "text": [
      "RMSE :  2648.590312\n"
     ]
    }
   ],
   "source": [
    "# RandomForrest\n",
    "from sklearn.metrics import mean_squared_error as MSE\n",
    "from sklearn.ensemble import RandomForestRegressor\n",
    "\n",
    "model = RandomForestRegressor()\n",
    "\n",
    "cv = KFold(n_splits = 10, random_state = 5, shuffle = True)\n",
    "scores = cross_val_score(model, c, y_train, scoring = 'neg_mean_squared_error',\n",
    "                         cv = cv, n_jobs = -1)\n",
    "\n",
    "print(\"RMSE : % f\" %(np.mean(np.sqrt(np.abs(scores)))))"
   ]
  },
  {
   "cell_type": "code",
   "execution_count": 35,
   "id": "28b805a9",
   "metadata": {},
   "outputs": [
    {
     "name": "stdout",
     "output_type": "stream",
     "text": [
      "RMSE :  2538.263220\n"
     ]
    }
   ],
   "source": [
    "# SVM\n",
    "from sklearn.metrics import mean_squared_error as MSE\n",
    "from sklearn.svm import SVR\n",
    "\n",
    "model = SVR()\n",
    "\n",
    "cv = KFold(n_splits = 10, random_state = 5, shuffle = True)\n",
    "scores = cross_val_score(model, c, y_train, scoring = 'neg_mean_squared_error',\n",
    "                         cv = cv, n_jobs = -1)\n",
    "\n",
    "print(\"RMSE : % f\" %(np.mean(np.sqrt(np.abs(scores)))))"
   ]
  },
  {
   "cell_type": "code",
   "execution_count": 36,
   "id": "edb6fb60",
   "metadata": {},
   "outputs": [],
   "source": [
    "column_20 = ['total_fans', 'group__subGroup__title_手機程式開發', 'courseCP', 'group__subGroup__title_手作小物', 'price', 'lengthOfDescription', 'group__subGroup__title_英文', 'teacher_targetGroup_similarity', 'preOrderedPrice', 'teacher_willLearn_similarity', 'totalVideoLengthInSeconds', 'teacher_metaDescription_similarity', 'teacher_group__title_similarity', 'teacher_title_similarity', 'teacher_recommendedBackground_similarity', 'teacher_group__subGroup__title_similarity', 'teacher_requiredTools_similarity', 'group__subGroup__title_數位行銷', 'averageRatingHistry', 'subtitleCourseNum']"
   ]
  },
  {
   "cell_type": "code",
   "execution_count": 37,
   "id": "ac2c7666",
   "metadata": {},
   "outputs": [],
   "source": [
    "c = train_method5[columns_20]"
   ]
  },
  {
   "cell_type": "code",
   "execution_count": 38,
   "id": "d328511f",
   "metadata": {},
   "outputs": [
    {
     "name": "stdout",
     "output_type": "stream",
     "text": [
      "RMSE :  2960.436781\n"
     ]
    }
   ],
   "source": [
    "# XGBoost\n",
    "from sklearn.metrics import mean_squared_error as MSE\n",
    "from xgboost import XGBRegressor\n",
    "\n",
    "model = XGBRegressor()\n",
    "\n",
    "cv = KFold(n_splits = 10, random_state = 5, shuffle = True)\n",
    "scores = cross_val_score(model, c, y_train, scoring = 'neg_mean_squared_error',\n",
    "                         cv = cv, n_jobs = -1)\n",
    "\n",
    "print(\"RMSE : % f\" %(np.mean(np.sqrt(np.abs(scores)))))"
   ]
  },
  {
   "cell_type": "code",
   "execution_count": 39,
   "id": "ac53a939",
   "metadata": {},
   "outputs": [
    {
     "name": "stdout",
     "output_type": "stream",
     "text": [
      "RMSE :  2717.968113\n"
     ]
    }
   ],
   "source": [
    "# RandomForrest\n",
    "from sklearn.metrics import mean_squared_error as MSE\n",
    "from sklearn.ensemble import RandomForestRegressor\n",
    "\n",
    "model = RandomForestRegressor()\n",
    "\n",
    "cv = KFold(n_splits = 10, random_state = 5, shuffle = True)\n",
    "scores = cross_val_score(model, c, y_train, scoring = 'neg_mean_squared_error',\n",
    "                         cv = cv, n_jobs = -1)\n",
    "\n",
    "print(\"RMSE : % f\" %(np.mean(np.sqrt(np.abs(scores)))))"
   ]
  },
  {
   "cell_type": "code",
   "execution_count": 41,
   "id": "4c8a7708",
   "metadata": {},
   "outputs": [
    {
     "name": "stdout",
     "output_type": "stream",
     "text": [
      "RMSE :  2538.643956\n"
     ]
    }
   ],
   "source": [
    "# SVM\n",
    "from sklearn.metrics import mean_squared_error as MSE\n",
    "from sklearn.svm import SVR\n",
    "\n",
    "model = SVR()\n",
    "\n",
    "cv = KFold(n_splits = 10, random_state = 5, shuffle = True)\n",
    "scores = cross_val_score(model, c, y_train, scoring = 'neg_mean_squared_error',\n",
    "                         cv = cv, n_jobs = -1)\n",
    "\n",
    "print(\"RMSE : % f\" %(np.mean(np.sqrt(np.abs(scores)))))"
   ]
  }
 ],
 "metadata": {
  "kernelspec": {
   "display_name": "Python 3 (ipykernel)",
   "language": "python",
   "name": "python3"
  },
  "language_info": {
   "codemirror_mode": {
    "name": "ipython",
    "version": 3
   },
   "file_extension": ".py",
   "mimetype": "text/x-python",
   "name": "python",
   "nbconvert_exporter": "python",
   "pygments_lexer": "ipython3",
   "version": "3.9.7"
  }
 },
 "nbformat": 4,
 "nbformat_minor": 5
}
